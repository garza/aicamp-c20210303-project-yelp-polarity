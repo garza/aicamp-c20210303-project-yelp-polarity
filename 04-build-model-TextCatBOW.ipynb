{
 "cells": [
  {
   "cell_type": "markdown",
   "id": "mathematical-fundamental",
   "metadata": {},
   "source": [
    "# 04-build-model-TextCatBOW\n",
    "\n",
    "## Main objectives:\n",
    "\n",
    "- Use spaCy's bag-of-words n-gram model\n",
    "    - [https://spacy.io/api/architectures#TextCatBOW](https://spacy.io/api/architectures#TextCatBOW)\n",
    "- Use spaCy generated docs to train this model\n",
    "- Run basic validation and evaluation "
   ]
  },
  {
   "cell_type": "code",
   "execution_count": 1,
   "id": "middle-mathematics",
   "metadata": {},
   "outputs": [],
   "source": [
    "import spacy\n",
    "# load an english language model in spacy\n",
    "nlp = spacy.load(\"en_core_web_lg\")"
   ]
  },
  {
   "cell_type": "code",
   "execution_count": 2,
   "id": "particular-rainbow",
   "metadata": {},
   "outputs": [
    {
     "name": "stdout",
     "output_type": "stream",
     "text": [
      "dev.spacy  train.spacy\n"
     ]
    }
   ],
   "source": [
    "!ls data"
   ]
  },
  {
   "cell_type": "markdown",
   "id": "smooth-millennium",
   "metadata": {},
   "source": [
    "# Validate configuration file"
   ]
  },
  {
   "cell_type": "code",
   "execution_count": 3,
   "id": "literary-federal",
   "metadata": {},
   "outputs": [
    {
     "name": "stdout",
     "output_type": "stream",
     "text": [
      "2021-03-16 22:54:30.752810: I tensorflow/stream_executor/platform/default/dso_loader.cc:49] Successfully opened dynamic library libcudart.so.11.0\n",
      "\u001b[1m\n",
      "============================= Config validation =============================\u001b[0m\n",
      "\u001b[1m\n",
      "===================== Config validation for [initialize] =====================\u001b[0m\n",
      "\u001b[1m\n",
      "====================== Config validation for [training] ======================\u001b[0m\n",
      "\u001b[38;5;2m✔ Config is valid\u001b[0m\n"
     ]
    }
   ],
   "source": [
    "# validate configuration\n",
    "!python -m spacy debug config ./config/config-TextCatBOW.cfg"
   ]
  },
  {
   "cell_type": "markdown",
   "id": "thousand-swiss",
   "metadata": {},
   "source": [
    "# Train the model"
   ]
  },
  {
   "cell_type": "code",
   "execution_count": 1,
   "id": "developing-adams",
   "metadata": {},
   "outputs": [
    {
     "name": "stdout",
     "output_type": "stream",
     "text": [
      "2021-03-16 23:23:31.663302: I tensorflow/stream_executor/platform/default/dso_loader.cc:49] Successfully opened dynamic library libcudart.so.11.0\n",
      "\u001b[38;5;4mℹ Using CPU\u001b[0m\n",
      "\u001b[1m\n",
      "=========================== Initializing pipeline ===========================\u001b[0m\n",
      "[2021-03-16 23:23:32,548] [INFO] Set up nlp object from config\n",
      "[2021-03-16 23:23:32,555] [INFO] Pipeline: ['textcat']\n",
      "[2021-03-16 23:23:32,558] [INFO] Created vocabulary\n",
      "[2021-03-16 23:23:32,558] [INFO] Finished initializing nlp object\n",
      "[2021-03-16 23:23:37,553] [INFO] Initialized pipeline components: ['textcat']\n",
      "\u001b[38;5;2m✔ Initialized pipeline\u001b[0m\n",
      "\u001b[1m\n",
      "============================= Training pipeline =============================\u001b[0m\n",
      "\u001b[38;5;4mℹ Pipeline: ['textcat']\u001b[0m\n",
      "\u001b[38;5;4mℹ Initial learn rate: 0.001\u001b[0m\n",
      "E    #       LOSS TEXTCAT  CATS_SCORE  SCORE \n",
      "---  ------  ------------  ----------  ------\n",
      "  0       0          0.25        0.00    0.00\n",
      "  0     100         11.76       16.92    0.17\n",
      "  0     200         10.47       54.12    0.54\n",
      "  0     300         10.62       64.55    0.65\n",
      "  0     400          6.00       66.24    0.66\n",
      "  0     500          3.82       70.38    0.70\n",
      "  0     600          3.70       67.83    0.68\n",
      "  0     700          2.86       64.11    0.64\n",
      "  0     800          2.61       65.36    0.65\n",
      "  0     900          1.60       65.12    0.65\n",
      "  0    1000          2.72       62.98    0.63\n",
      "  0    1100          1.52       65.07    0.65\n",
      "  0    1200          0.82       63.93    0.64\n",
      "  0    1300          0.92       68.44    0.68\n",
      "  0    1400          1.34       67.43    0.67\n",
      "  1    1500          0.63       66.38    0.66\n",
      "  1    1600          0.07       66.83    0.67\n",
      "  1    1700          0.04       66.56    0.67\n",
      "  1    1800          0.04       66.29    0.66\n",
      "  1    1900          0.03       65.30    0.65\n",
      "  1    2000          0.02       65.28    0.65\n",
      "  2    2100          0.02       64.70    0.65\n",
      "  2    2200          0.01       65.52    0.66\n",
      "  2    2300          0.01       65.28    0.65\n",
      "  3    2400          0.01       65.57    0.66\n",
      "  3    2500          0.01       65.50    0.66\n",
      "  3    2600          0.01       65.70    0.66\n",
      "  4    2700          0.01       65.17    0.65\n",
      "  4    2800          0.01       65.19    0.65\n",
      "  4    2900          0.00       65.46    0.65\n",
      "\u001b[38;5;2m✔ Saved pipeline to output directory\u001b[0m\n",
      "models/textCatBOW/model-last\n"
     ]
    }
   ],
   "source": [
    "!python -m spacy train ./config/config-TextCatBOW.cfg --output ./models/textCatBOW"
   ]
  },
  {
   "cell_type": "markdown",
   "id": "promotional-tulsa",
   "metadata": {},
   "source": [
    "# Evaluate our best model output and save metrics to disk"
   ]
  },
  {
   "cell_type": "code",
   "execution_count": 2,
   "id": "committed-sellers",
   "metadata": {},
   "outputs": [
    {
     "name": "stdout",
     "output_type": "stream",
     "text": [
      "2021-03-16 23:26:32.539899: I tensorflow/stream_executor/platform/default/dso_loader.cc:49] Successfully opened dynamic library libcudart.so.11.0\n",
      "\u001b[38;5;4mℹ Using CPU\u001b[0m\n",
      "\u001b[1m\n",
      "================================== Results ==================================\u001b[0m\n",
      "\n",
      "TOK                 100.00\n",
      "TEXTCAT (macro F)   70.38 \n",
      "SPEED               896243\n",
      "\n",
      "\u001b[1m\n",
      "=========================== Textcat F (per label) ===========================\u001b[0m\n",
      "\n",
      "                P       R       F\n",
      "positive   100.00   54.30   70.38\n",
      "\n",
      "\u001b[1m\n",
      "======================== Textcat ROC AUC (per label) ========================\u001b[0m\n",
      "\n",
      "           ROC AUC\n",
      "positive      0.92\n",
      "\n",
      "\u001b[38;5;2m✔ Saved results to evaluate/model-textCatBOW-metrics.json\u001b[0m\n"
     ]
    }
   ],
   "source": [
    "!python -m spacy evaluate ./models/textCatBOW/model-best ./data/dev.spacy --output ./evaluate/model-textCatBOW-metrics.json"
   ]
  },
  {
   "cell_type": "code",
   "execution_count": null,
   "id": "focal-gauge",
   "metadata": {},
   "outputs": [],
   "source": []
  }
 ],
 "metadata": {
  "kernelspec": {
   "display_name": "Python 3",
   "language": "python",
   "name": "python3"
  },
  "language_info": {
   "codemirror_mode": {
    "name": "ipython",
    "version": 3
   },
   "file_extension": ".py",
   "mimetype": "text/x-python",
   "name": "python",
   "nbconvert_exporter": "python",
   "pygments_lexer": "ipython3",
   "version": "3.7.9"
  }
 },
 "nbformat": 4,
 "nbformat_minor": 5
}
