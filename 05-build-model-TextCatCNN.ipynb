{
 "cells": [
  {
   "cell_type": "markdown",
   "id": "powered-windows",
   "metadata": {},
   "source": [
    "# 05-build-model-TextCatCNN\n",
    "\n",
    "## Main objectives:\n",
    "\n",
    "- Use spaCy's neural netowkr model where token vectors are calculated using a CNN\n",
    "    - [https://spacy.io/api/architectures#TextCatCNN](https://spacy.io/api/architectures#TextCatCNN)\n",
    "- Use spaCy generated docs to train this model\n",
    "- Run basic validation and evaluation "
   ]
  },
  {
   "cell_type": "code",
   "execution_count": 1,
   "id": "light-embassy",
   "metadata": {},
   "outputs": [],
   "source": [
    "import spacy\n",
    "# load an english language model in spacy\n",
    "nlp = spacy.load(\"en_core_web_lg\")"
   ]
  },
  {
   "cell_type": "code",
   "execution_count": 2,
   "id": "stopped-status",
   "metadata": {},
   "outputs": [
    {
     "name": "stdout",
     "output_type": "stream",
     "text": [
      "dev.spacy  train.spacy\n"
     ]
    }
   ],
   "source": [
    "!ls data"
   ]
  },
  {
   "cell_type": "markdown",
   "id": "solar-discount",
   "metadata": {},
   "source": [
    "# Validate configuration file"
   ]
  },
  {
   "cell_type": "code",
   "execution_count": 3,
   "id": "editorial-speed",
   "metadata": {},
   "outputs": [
    {
     "name": "stdout",
     "output_type": "stream",
     "text": [
      "2021-03-16 22:56:35.819839: I tensorflow/stream_executor/platform/default/dso_loader.cc:49] Successfully opened dynamic library libcudart.so.11.0\n",
      "\u001b[1m\n",
      "============================= Config validation =============================\u001b[0m\n",
      "\u001b[1m\n",
      "===================== Config validation for [initialize] =====================\u001b[0m\n",
      "\u001b[1m\n",
      "====================== Config validation for [training] ======================\u001b[0m\n",
      "\u001b[38;5;2m✔ Config is valid\u001b[0m\n"
     ]
    }
   ],
   "source": [
    "# validate configuration\n",
    "!python -m spacy debug config ./config/config-TextCatCNN.cfg"
   ]
  },
  {
   "cell_type": "markdown",
   "id": "shaped-student",
   "metadata": {},
   "source": [
    "# Train the model"
   ]
  },
  {
   "cell_type": "code",
   "execution_count": 1,
   "id": "actual-router",
   "metadata": {},
   "outputs": [
    {
     "name": "stdout",
     "output_type": "stream",
     "text": [
      "2021-03-16 23:23:40.099463: I tensorflow/stream_executor/platform/default/dso_loader.cc:49] Successfully opened dynamic library libcudart.so.11.0\n",
      "\u001b[38;5;4mℹ Using CPU\u001b[0m\n",
      "\u001b[1m\n",
      "=========================== Initializing pipeline ===========================\u001b[0m\n",
      "[2021-03-16 23:23:40,999] [INFO] Set up nlp object from config\n",
      "[2021-03-16 23:23:41,007] [INFO] Pipeline: ['textcat']\n",
      "[2021-03-16 23:23:41,010] [INFO] Created vocabulary\n",
      "[2021-03-16 23:23:41,010] [INFO] Finished initializing nlp object\n",
      "[2021-03-16 23:23:44,661] [INFO] Initialized pipeline components: ['textcat']\n",
      "\u001b[38;5;2m✔ Initialized pipeline\u001b[0m\n",
      "\u001b[1m\n",
      "============================= Training pipeline =============================\u001b[0m\n",
      "\u001b[38;5;4mℹ Pipeline: ['textcat']\u001b[0m\n",
      "\u001b[38;5;4mℹ Initial learn rate: 0.001\u001b[0m\n",
      "E    #       LOSS TEXTCAT  CATS_SCORE  SCORE \n",
      "---  ------  ------------  ----------  ------\n",
      "  0       0          0.10       49.27    0.49\n",
      "  0     100         23.88       46.77    0.47\n",
      "  0     200         24.35       55.04    0.55\n",
      "  0     300         26.19       51.92    0.52\n",
      "  0     400         19.42       51.91    0.52\n",
      "  0     500         20.95       51.92    0.52\n",
      "  0     600         15.12       51.95    0.52\n",
      "  0     700         13.19       51.96    0.52\n",
      "  0     800         10.58       51.91    0.52\n",
      "  0     900          6.27       51.89    0.52\n",
      "  0    1000         10.05       53.93    0.54\n",
      "  0    1100          8.50       59.48    0.59\n",
      "  0    1200          2.68       70.16    0.70\n",
      "  0    1300          6.01       70.48    0.70\n",
      "  0    1400          5.53       64.57    0.65\n",
      "  1    1500          2.23       64.99    0.65\n",
      "  1    1600          1.66       64.99    0.65\n",
      "  1    1700          0.92       64.99    0.65\n",
      "  1    1800          1.07       64.99    0.65\n",
      "  1    1900          0.61       64.99    0.65\n",
      "  1    2000          0.49       65.02    0.65\n",
      "  2    2100          0.36       65.02    0.65\n",
      "  2    2200          0.34       65.02    0.65\n",
      "  2    2300          0.24       65.03    0.65\n",
      "  3    2400          0.21       65.03    0.65\n",
      "  3    2500          0.21       65.04    0.65\n",
      "  3    2600          0.21       65.04    0.65\n",
      "  4    2700          0.22       65.04    0.65\n",
      "  4    2800          0.21       65.33    0.65\n",
      "  4    2900          0.20       65.33    0.65\n",
      "  5    3000          0.23       65.40    0.65\n",
      "  5    3100          0.20       65.42    0.65\n",
      "  5    3200          0.20       65.41    0.65\n",
      "  6    3300          0.20       65.40    0.65\n",
      "  6    3400          0.22       65.40    0.65\n",
      "  6    3500          0.19       65.65    0.66\n",
      "  7    3600          0.21       65.67    0.66\n",
      "  7    3700          0.19       81.95    0.82\n",
      "  7    3800          0.07       88.95    0.89\n",
      "  8    3900          0.05       90.28    0.90\n",
      "  8    4000          0.04       90.80    0.91\n",
      "  8    4100          0.03       91.51    0.92\n",
      "  9    4200          0.03       91.81    0.92\n",
      "  9    4300          0.02       91.58    0.92\n",
      "  9    4400          0.02       91.11    0.91\n",
      " 10    4500          0.02       91.35    0.91\n",
      " 10    4600          0.01       91.52    0.92\n",
      " 10    4700          0.01       90.94    0.91\n",
      " 11    4800          0.01       91.29    0.91\n",
      " 11    4900          0.01       91.28    0.91\n",
      " 11    5000          0.01       91.23    0.91\n",
      " 12    5100          0.01       91.50    0.92\n",
      " 12    5200          0.01       91.40    0.91\n",
      " 12    5300          0.00       91.17    0.91\n",
      " 13    5400          0.01       91.13    0.91\n",
      " 13    5500          0.00       91.25    0.91\n",
      " 13    5600          0.00       91.20    0.91\n",
      " 14    5700          0.00       91.21    0.91\n",
      " 14    5800          0.00       91.12    0.91\n",
      " 14    5900          0.00       90.84    0.91\n",
      " 15    6000          0.00       90.67    0.91\n",
      " 15    6100          0.00       90.57    0.91\n",
      " 15    6200          0.00       91.07    0.91\n",
      " 16    6300          0.00       90.77    0.91\n",
      " 16    6400          0.01       90.41    0.90\n",
      " 16    6500          0.00       90.54    0.91\n",
      " 17    6600          0.00       90.59    0.91\n",
      "\u001b[38;5;2m✔ Saved pipeline to output directory\u001b[0m\n",
      "models/textCatCNN/model-last\n"
     ]
    }
   ],
   "source": [
    "!python -m spacy train ./config/config-TextCatCNN.cfg --output ./models/textCatCNN"
   ]
  },
  {
   "cell_type": "markdown",
   "id": "needed-unemployment",
   "metadata": {},
   "source": [
    "# Evaluate our best model output and save metrics to disk\n",
    "\n",
    "For hyperparameter tuning, experimented with different tok2vec attributes and row sizes settling on:\n",
    "\n",
    "- \"NORM\", \"PREFIX\", \"SUFFIX\", \"SHAPE\"\n",
    "- [10000, 5000, 5000, 5000]\n",
    "\n",
    "Also adjusted the width size from 64 to 96, which only resulted in a nominal increase in performance.\n",
    "\n",
    "Training was tested on training datasets of 100, 500, 1000 and finally, 5000."
   ]
  },
  {
   "cell_type": "code",
   "execution_count": 2,
   "id": "introductory-stocks",
   "metadata": {},
   "outputs": [
    {
     "name": "stdout",
     "output_type": "stream",
     "text": [
      "2021-03-16 23:43:03.898740: I tensorflow/stream_executor/platform/default/dso_loader.cc:49] Successfully opened dynamic library libcudart.so.11.0\n",
      "\u001b[38;5;4mℹ Using CPU\u001b[0m\n",
      "\u001b[1m\n",
      "================================== Results ==================================\u001b[0m\n",
      "\n",
      "TOK                   100.00\n",
      "TEXTCAT (macro AUC)   91.81 \n",
      "SPEED                 38864 \n",
      "\n",
      "\u001b[1m\n",
      "=========================== Textcat F (per label) ===========================\u001b[0m\n",
      "\n",
      "               P       R       F\n",
      "positive   87.12   82.28   84.63\n",
      "\n",
      "\u001b[1m\n",
      "======================== Textcat ROC AUC (per label) ========================\u001b[0m\n",
      "\n",
      "           ROC AUC\n",
      "positive      0.92\n",
      "\n",
      "\u001b[38;5;2m✔ Saved results to evaluate/model-textCatCNN-metrics.json\u001b[0m\n"
     ]
    }
   ],
   "source": [
    "!python -m spacy evaluate ./models/textCatCNN/model-best ./data/dev.spacy --output ./evaluate/model-textCatCNN-metrics.json"
   ]
  },
  {
   "cell_type": "code",
   "execution_count": null,
   "id": "guilty-weather",
   "metadata": {},
   "outputs": [],
   "source": []
  }
 ],
 "metadata": {
  "kernelspec": {
   "display_name": "Python 3",
   "language": "python",
   "name": "python3"
  },
  "language_info": {
   "codemirror_mode": {
    "name": "ipython",
    "version": 3
   },
   "file_extension": ".py",
   "mimetype": "text/x-python",
   "name": "python",
   "nbconvert_exporter": "python",
   "pygments_lexer": "ipython3",
   "version": "3.7.9"
  }
 },
 "nbformat": 4,
 "nbformat_minor": 5
}
