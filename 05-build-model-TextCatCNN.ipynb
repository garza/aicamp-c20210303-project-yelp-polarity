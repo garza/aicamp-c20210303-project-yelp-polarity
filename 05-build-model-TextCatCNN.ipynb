{
 "cells": [
  {
   "cell_type": "markdown",
   "id": "verbal-firmware",
   "metadata": {},
   "source": [
    "# 05-build-model-TextCatCNN\n",
    "\n",
    "## Main objectives:\n",
    "\n",
    "- Use spaCy's neural netowkr model where token vectors are calculated using a CNN\n",
    "    - [https://spacy.io/api/architectures#TextCatCNN](https://spacy.io/api/architectures#TextCatCNN)\n",
    "- Use spaCy generated docs to train this model\n",
    "- Run basic validation and evaluation "
   ]
  },
  {
   "cell_type": "code",
   "execution_count": 1,
   "id": "virtual-nicaragua",
   "metadata": {},
   "outputs": [],
   "source": [
    "import spacy\n",
    "# load an english language model in spacy\n",
    "nlp = spacy.load(\"en_core_web_lg\")"
   ]
  },
  {
   "cell_type": "code",
   "execution_count": 2,
   "id": "sonic-payroll",
   "metadata": {},
   "outputs": [
    {
     "name": "stdout",
     "output_type": "stream",
     "text": [
      "dev.spacy  train.spacy\n"
     ]
    }
   ],
   "source": [
    "!ls data"
   ]
  },
  {
   "cell_type": "markdown",
   "id": "subject-reasoning",
   "metadata": {},
   "source": [
    "# Validate configuration file"
   ]
  },
  {
   "cell_type": "code",
   "execution_count": 3,
   "id": "entertaining-federation",
   "metadata": {},
   "outputs": [
    {
     "name": "stdout",
     "output_type": "stream",
     "text": [
      "\u001b[1m\n",
      "============================= Config validation =============================\u001b[0m\n",
      "\u001b[1m\n",
      "===================== Config validation for [initialize] =====================\u001b[0m\n",
      "\u001b[1m\n",
      "====================== Config validation for [training] ======================\u001b[0m\n",
      "\u001b[38;5;2m✔ Config is valid\u001b[0m\n"
     ]
    }
   ],
   "source": [
    "# validate configuration\n",
    "!python -m spacy debug config ./config/config-TextCatCNN.cfg"
   ]
  },
  {
   "cell_type": "code",
   "execution_count": 4,
   "id": "facial-serbia",
   "metadata": {},
   "outputs": [
    {
     "name": "stdout",
     "output_type": "stream",
     "text": [
      "\u001b[1m\n",
      "============================ Data file validation ============================\u001b[0m\n",
      "\u001b[38;5;2m✔ Corpus is loadable\u001b[0m\n",
      "\u001b[38;5;2m✔ Pipeline can be initialized with data\u001b[0m\n",
      "\u001b[1m\n",
      "=============================== Training stats ===============================\u001b[0m\n",
      "Language: en\n",
      "Training pipeline: textcat\n",
      "5000 training docs\n",
      "5000 evaluation docs\n",
      "\u001b[38;5;2m✔ No overlap between training and evaluation data\u001b[0m\n",
      "\u001b[1m\n",
      "============================== Vocab & Vectors ==============================\u001b[0m\n",
      "\u001b[38;5;4mℹ 282161 total word(s) in the data (18163 unique)\u001b[0m\n",
      "\u001b[38;5;4mℹ No word vectors present in the package\u001b[0m\n",
      "\u001b[1m\n",
      "================================== Summary ==================================\u001b[0m\n",
      "\u001b[38;5;2m✔ 3 checks passed\u001b[0m\n"
     ]
    }
   ],
   "source": [
    "!python -m spacy debug data ./config/config-TextCatCNN.cfg"
   ]
  },
  {
   "cell_type": "markdown",
   "id": "complicated-arbor",
   "metadata": {},
   "source": [
    "# Train the model"
   ]
  },
  {
   "cell_type": "code",
   "execution_count": null,
   "id": "inside-music",
   "metadata": {},
   "outputs": [
    {
     "name": "stdout",
     "output_type": "stream",
     "text": [
      "\u001b[38;5;4mℹ Using CPU\u001b[0m\n",
      "\u001b[1m\n",
      "=========================== Initializing pipeline ===========================\u001b[0m\n",
      "[2021-03-22 22:42:07,593] [INFO] Set up nlp object from config\n",
      "[2021-03-22 22:42:08,014] [INFO] Pipeline: ['textcat']\n",
      "[2021-03-22 22:42:08,020] [INFO] Created vocabulary\n",
      "[2021-03-22 22:42:08,020] [INFO] Finished initializing nlp object\n",
      "[2021-03-22 22:42:18,341] [INFO] Initialized pipeline components: ['textcat']\n",
      "\u001b[38;5;2m✔ Initialized pipeline\u001b[0m\n",
      "\u001b[1m\n",
      "============================= Training pipeline =============================\u001b[0m\n",
      "\u001b[38;5;4mℹ Pipeline: ['textcat']\u001b[0m\n",
      "\u001b[38;5;4mℹ Initial learn rate: 0.001\u001b[0m\n",
      "\u001b[34m\u001b[1mwandb\u001b[0m: W&B API key is configured (use `wandb login --relogin` to force relogin)\n",
      "\u001b[34m\u001b[1mwandb\u001b[0m: Tracking run with wandb version 0.10.23\n",
      "\u001b[34m\u001b[1mwandb\u001b[0m: Syncing run \u001b[33meager-hill-18\u001b[0m\n",
      "\u001b[34m\u001b[1mwandb\u001b[0m: ⭐️ View project at \u001b[34m\u001b[4mhttps://wandb.ai/garza/yelp-polarity\u001b[0m\n",
      "\u001b[34m\u001b[1mwandb\u001b[0m: 🚀 View run at \u001b[34m\u001b[4mhttps://wandb.ai/garza/yelp-polarity/runs/1qd1puec\u001b[0m\n",
      "\u001b[34m\u001b[1mwandb\u001b[0m: Run data is saved locally in /home/garza/notebooks/aicamp/yelp-project/wandb/run-20210322_224223-1qd1puec\n",
      "\u001b[34m\u001b[1mwandb\u001b[0m: Run `wandb offline` to turn off syncing.\n",
      "\n",
      "E    #       LOSS TEXTCAT  CATS_SCORE  SCORE \n",
      "---  ------  ------------  ----------  ------\n",
      "  0       0          0.50       57.70    0.58\n",
      "  0      10          3.78       58.51    0.59\n",
      "  0      20          2.57       58.33    0.58\n",
      "  0      30          3.93       62.58    0.63\n",
      "  0      40          2.91       67.22    0.67\n",
      "  0      50          3.20       65.75    0.66\n",
      "  0      60          4.40       67.50    0.67\n",
      "  0      70          3.08       62.00    0.62\n",
      "  0      80          3.24       66.99    0.67\n",
      "  0      90          3.64       74.30    0.74\n",
      "  0     100          2.29       79.10    0.79\n",
      "  0     110          4.80       79.17    0.79\n",
      "  0     120          3.69       79.20    0.79\n",
      "  0     130          4.39       80.25    0.80\n",
      "  0     140          1.36       80.15    0.80\n",
      "  0     150          4.87       81.81    0.82\n",
      "  0     160          0.89       81.68    0.82\n",
      "  0     170          1.91       83.30    0.83\n",
      "  0     180          2.35       83.10    0.83\n",
      "  0     190          1.17       82.87    0.83\n",
      "  0     200          2.53       84.34    0.84\n",
      "  0     210          5.59       85.53    0.86\n",
      "  0     220          2.79       85.77    0.86\n",
      "  0     230          2.51       86.55    0.87\n",
      "  0     240          1.50       86.99    0.87\n",
      "  0     250          3.14       86.93    0.87\n",
      "  0     260          4.25       86.62    0.87\n",
      "  0     270          2.14       87.27    0.87\n",
      "  0     280          1.32       87.30    0.87\n",
      "  0     290          1.18       87.60    0.88\n",
      "  0     300          0.76       87.60    0.88\n"
     ]
    }
   ],
   "source": [
    "!python -m spacy train ./config/config-TextCatCNN.cfg --output ./models/textCatCNN"
   ]
  },
  {
   "cell_type": "markdown",
   "id": "separate-conclusion",
   "metadata": {},
   "source": [
    "# Evaluate our best model output and save metrics to disk\n",
    "\n",
    "For hyperparameter tuning, experimented with different tok2vec attributes and row sizes settling on:\n",
    "\n",
    "- \"NORM\", \"PREFIX\", \"SUFFIX\", \"SHAPE\"\n",
    "- [10000, 5000, 5000, 5000]\n",
    "\n",
    "Also adjusted the width size from 64 to 96, which only resulted in a nominal increase in performance.\n",
    "\n",
    "Training was tested on training datasets of 100, 500, 1000 and finally, 5000."
   ]
  },
  {
   "cell_type": "code",
   "execution_count": null,
   "id": "twenty-attitude",
   "metadata": {},
   "outputs": [],
   "source": [
    "!python -m spacy evaluate ./models/textCatCNN/model-best ./data/dev.spacy --output ./evaluate/model-textCatCNN-metrics.json"
   ]
  },
  {
   "cell_type": "code",
   "execution_count": null,
   "id": "severe-implementation",
   "metadata": {},
   "outputs": [],
   "source": [
    "!python -m spacy debug data ./config/config-TextCatCNN.cfg "
   ]
  },
  {
   "cell_type": "code",
   "execution_count": null,
   "id": "dense-geometry",
   "metadata": {},
   "outputs": [],
   "source": []
  }
 ],
 "metadata": {
  "kernelspec": {
   "display_name": "Python 3",
   "language": "python",
   "name": "python3"
  },
  "language_info": {
   "codemirror_mode": {
    "name": "ipython",
    "version": 3
   },
   "file_extension": ".py",
   "mimetype": "text/x-python",
   "name": "python",
   "nbconvert_exporter": "python",
   "pygments_lexer": "ipython3",
   "version": "3.8.6"
  }
 },
 "nbformat": 4,
 "nbformat_minor": 5
}
