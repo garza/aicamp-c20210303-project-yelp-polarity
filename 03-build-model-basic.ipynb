{
 "cells": [
  {
   "cell_type": "markdown",
   "id": "endangered-illinois",
   "metadata": {},
   "source": [
    "# 03-build-model-basic\n",
    "\n",
    "## Main objectives:\n",
    "\n",
    "- Use the default training config as recommended by spaCy 3.0 for a text classification training model\n",
    "    - [https://nightly.spacy.io/usage/training#quickstart](https://nightly.spacy.io/usage/training#quickstart)\n",
    "- Use spaCy generated docs to train this model\n",
    "- Run basic validation and evaluation "
   ]
  },
  {
   "cell_type": "code",
   "execution_count": 55,
   "id": "directed-lancaster",
   "metadata": {},
   "outputs": [],
   "source": [
    "import spacy\n",
    "# load an english language model in spacy\n",
    "nlp = spacy.load(\"en_core_web_lg\")"
   ]
  },
  {
   "cell_type": "code",
   "execution_count": 56,
   "id": "acquired-validity",
   "metadata": {},
   "outputs": [
    {
     "name": "stdout",
     "output_type": "stream",
     "text": [
      "dev.spacy  train.spacy\n"
     ]
    }
   ],
   "source": [
    "!ls data"
   ]
  },
  {
   "cell_type": "markdown",
   "id": "satisfactory-distance",
   "metadata": {},
   "source": [
    "## Fill in the config based on our base_config generated from spacy.io"
   ]
  },
  {
   "cell_type": "code",
   "execution_count": 58,
   "id": "brown-province",
   "metadata": {},
   "outputs": [
    {
     "name": "stdout",
     "output_type": "stream",
     "text": [
      "2021-03-16 22:52:07.002680: I tensorflow/stream_executor/platform/default/dso_loader.cc:49] Successfully opened dynamic library libcudart.so.11.0\n",
      "\u001b[38;5;2m✔ Auto-filled config with all values\u001b[0m\n",
      "\u001b[38;5;2m✔ Saved config\u001b[0m\n",
      "config/config-basic.cfg\n",
      "You can now add your data and train your pipeline:\n",
      "python -m spacy train config-basic.cfg --paths.train ./train.spacy --paths.dev ./dev.spacy\n"
     ]
    }
   ],
   "source": [
    "!python -m spacy init fill-config ./config/base_config-basic.cfg ./config/config-basic.cfg"
   ]
  },
  {
   "cell_type": "markdown",
   "id": "talented-county",
   "metadata": {},
   "source": [
    "# Validate configuration file"
   ]
  },
  {
   "cell_type": "code",
   "execution_count": 59,
   "id": "engaging-choir",
   "metadata": {},
   "outputs": [
    {
     "name": "stdout",
     "output_type": "stream",
     "text": [
      "2021-03-16 22:52:12.642228: I tensorflow/stream_executor/platform/default/dso_loader.cc:49] Successfully opened dynamic library libcudart.so.11.0\n",
      "\u001b[1m\n",
      "============================= Config validation =============================\u001b[0m\n",
      "\u001b[1m\n",
      "===================== Config validation for [initialize] =====================\u001b[0m\n",
      "\u001b[1m\n",
      "====================== Config validation for [training] ======================\u001b[0m\n",
      "\u001b[38;5;2m✔ Config is valid\u001b[0m\n"
     ]
    }
   ],
   "source": [
    "# validate configuration\n",
    "!python -m spacy debug config ./config/config-basic.cfg"
   ]
  },
  {
   "cell_type": "markdown",
   "id": "wired-ferry",
   "metadata": {},
   "source": [
    "# Train the model"
   ]
  },
  {
   "cell_type": "code",
   "execution_count": 60,
   "id": "colored-cocktail",
   "metadata": {},
   "outputs": [
    {
     "name": "stdout",
     "output_type": "stream",
     "text": [
      "2021-03-16 22:52:26.284382: I tensorflow/stream_executor/platform/default/dso_loader.cc:49] Successfully opened dynamic library libcudart.so.11.0\n",
      "\u001b[38;5;4mℹ Using CPU\u001b[0m\n",
      "\u001b[1m\n",
      "=========================== Initializing pipeline ===========================\u001b[0m\n",
      "[2021-03-16 22:52:27,188] [INFO] Set up nlp object from config\n",
      "[2021-03-16 22:52:27,195] [INFO] Pipeline: ['tok2vec', 'textcat']\n",
      "[2021-03-16 22:52:27,199] [INFO] Created vocabulary\n",
      "[2021-03-16 22:52:27,199] [INFO] Finished initializing nlp object\n",
      "[2021-03-16 22:52:33,932] [INFO] Initialized pipeline components: ['tok2vec', 'textcat']\n",
      "\u001b[38;5;2m✔ Initialized pipeline\u001b[0m\n",
      "\u001b[1m\n",
      "============================= Training pipeline =============================\u001b[0m\n",
      "\u001b[38;5;4mℹ Pipeline: ['tok2vec', 'textcat']\u001b[0m\n",
      "\u001b[38;5;4mℹ Initial learn rate: 0.001\u001b[0m\n",
      "E    #       LOSS TOK2VEC  LOSS TEXTCAT  CATS_SCORE  SCORE \n",
      "---  ------  ------------  ------------  ----------  ------\n",
      "  0       0          0.00          0.25        0.00    0.00\n",
      "  0     200          0.00         22.34       55.26    0.55\n",
      "  0     400          0.00         17.06       66.35    0.66\n",
      "  0     600          0.00          7.66       69.77    0.70\n",
      "  0     800          0.00          6.29       65.68    0.66\n",
      "  0    1000          0.00          4.47       64.46    0.64\n",
      "  0    1200          0.00          2.46       63.43    0.63\n",
      "  0    1400          0.00          1.87       67.14    0.67\n",
      "  1    1600          0.00          0.96       67.32    0.67\n",
      "  1    1800          0.00          0.24       66.54    0.67\n",
      "  1    2000          0.00          0.15       65.84    0.66\n",
      "  2    2200          0.00          0.08       66.13    0.66\n",
      "  3    2400          0.00          0.05       67.07    0.67\n",
      "  3    2600          0.00          0.04       66.33    0.66\n",
      "  4    2800          0.00          0.04       66.13    0.66\n",
      "  5    3000          0.00          0.04       66.06    0.66\n",
      "  5    3200          0.00          0.03       66.42    0.66\n",
      "  6    3400          0.00          0.03       66.58    0.67\n",
      "  7    3600          0.00          0.03       65.56    0.66\n",
      "  7    3800          0.00          0.03       66.06    0.66\n",
      "  8    4000          0.00          0.03       65.56    0.66\n",
      "  9    4200          0.00          0.02       66.29    0.66\n",
      "  9    4400          0.00          0.02       65.92    0.66\n",
      " 10    4600          0.00          0.02       66.61    0.67\n",
      " 11    4800          0.00          0.02       66.54    0.67\n",
      " 11    5000          0.00          0.02       66.40    0.66\n",
      " 12    5200          0.00          0.02       66.10    0.66\n",
      " 13    5400          0.00          0.02       66.36    0.66\n",
      " 13    5600          0.00          0.01       66.15    0.66\n",
      " 14    5800          0.00          0.02       66.40    0.66\n",
      " 15    6000          0.00          0.02       66.36    0.66\n",
      " 15    6200          0.00          0.01       65.99    0.66\n",
      " 16    6400          0.00          0.01       66.06    0.66\n",
      " 17    6600          0.00          0.01       66.40    0.66\n",
      " 17    6800          0.00          0.01       66.01    0.66\n",
      " 18    7000          0.00          0.01       66.29    0.66\n",
      " 19    7200          0.00          0.01       66.38    0.66\n",
      " 19    7400          0.00          0.01       66.26    0.66\n",
      " 20    7600          0.00          0.01       66.17    0.66\n",
      " 21    7800          0.00          0.01       66.44    0.66\n",
      " 21    8000          0.00          0.01       66.08    0.66\n",
      " 22    8200          0.00          0.01       66.29    0.66\n",
      " 23    8400          0.00          0.01       66.84    0.67\n",
      " 23    8600          0.00          0.01       66.11    0.66\n",
      "\u001b[38;5;2m✔ Saved pipeline to output directory\u001b[0m\n",
      "models/basic/model-last\n"
     ]
    }
   ],
   "source": [
    "!python -m spacy train ./config/config-basic.cfg --output ./models/basic"
   ]
  },
  {
   "cell_type": "markdown",
   "id": "strategic-antique",
   "metadata": {},
   "source": [
    "# Evaluate our best model output and save metrics to disk"
   ]
  },
  {
   "cell_type": "code",
   "execution_count": 61,
   "id": "placed-trauma",
   "metadata": {},
   "outputs": [
    {
     "name": "stdout",
     "output_type": "stream",
     "text": [
      "2021-03-16 23:03:38.076305: I tensorflow/stream_executor/platform/default/dso_loader.cc:49] Successfully opened dynamic library libcudart.so.11.0\n",
      "\u001b[38;5;4mℹ Using CPU\u001b[0m\n",
      "\u001b[1m\n",
      "================================== Results ==================================\u001b[0m\n",
      "\n",
      "TOK                 100.00\n",
      "TEXTCAT (macro F)   69.77 \n",
      "SPEED               48068 \n",
      "\n",
      "\u001b[1m\n",
      "=========================== Textcat F (per label) ===========================\u001b[0m\n",
      "\n",
      "                P       R       F\n",
      "positive   100.00   53.58   69.77\n",
      "\n",
      "\u001b[1m\n",
      "======================== Textcat ROC AUC (per label) ========================\u001b[0m\n",
      "\n",
      "           ROC AUC\n",
      "positive      0.92\n",
      "\n",
      "\u001b[38;5;2m✔ Saved results to evaluate/basic-metrics.json\u001b[0m\n"
     ]
    }
   ],
   "source": [
    "!python -m spacy evaluate ./models/basic/model-best ./data/dev.spacy --output ./evaluate/basic-metrics.json"
   ]
  },
  {
   "cell_type": "code",
   "execution_count": null,
   "id": "inappropriate-cache",
   "metadata": {},
   "outputs": [],
   "source": []
  }
 ],
 "metadata": {
  "kernelspec": {
   "display_name": "Python 3",
   "language": "python",
   "name": "python3"
  },
  "language_info": {
   "codemirror_mode": {
    "name": "ipython",
    "version": 3
   },
   "file_extension": ".py",
   "mimetype": "text/x-python",
   "name": "python",
   "nbconvert_exporter": "python",
   "pygments_lexer": "ipython3",
   "version": "3.7.9"
  }
 },
 "nbformat": 4,
 "nbformat_minor": 5
}
