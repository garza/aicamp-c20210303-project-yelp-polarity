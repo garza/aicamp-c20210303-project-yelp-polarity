{
 "cells": [
  {
   "cell_type": "markdown",
   "id": "finished-groove",
   "metadata": {},
   "source": [
    "# 03-build-model-basic\n",
    "\n",
    "## Main objectives:\n",
    "\n",
    "- Use the default training config as recommended by spaCy 3.0 for a text classification training model\n",
    "    - [https://nightly.spacy.io/usage/training#quickstart](https://nightly.spacy.io/usage/training#quickstart)\n",
    "- Use spaCy generated docs to train this model\n",
    "- Run basic validation and evaluation "
   ]
  },
  {
   "cell_type": "code",
   "execution_count": 1,
   "id": "blocked-minutes",
   "metadata": {},
   "outputs": [],
   "source": [
    "import spacy\n",
    "# load an english language model in spacy\n",
    "nlp = spacy.load(\"en_core_web_sm\")"
   ]
  },
  {
   "cell_type": "code",
   "execution_count": 2,
   "id": "chief-sauce",
   "metadata": {},
   "outputs": [
    {
     "name": "stdout",
     "output_type": "stream",
     "text": [
      "dev.spacy  train.spacy\n"
     ]
    }
   ],
   "source": [
    "!ls data"
   ]
  },
  {
   "cell_type": "markdown",
   "id": "through-receipt",
   "metadata": {},
   "source": [
    "## Fill in the config based on our base_config generated from spacy.io"
   ]
  },
  {
   "cell_type": "code",
   "execution_count": 3,
   "id": "colored-theater",
   "metadata": {},
   "outputs": [
    {
     "name": "stdout",
     "output_type": "stream",
     "text": [
      "/usr/lib/python-exec/python3.8/python: No module named spacy\n"
     ]
    }
   ],
   "source": [
    "!python -m spacy init fill-config ./config/base_config-basic.cfg ./config/config-basic.cfg"
   ]
  },
  {
   "cell_type": "markdown",
   "id": "outdoor-expansion",
   "metadata": {},
   "source": [
    "# Validate configuration file"
   ]
  },
  {
   "cell_type": "code",
   "execution_count": 4,
   "id": "expensive-inspection",
   "metadata": {},
   "outputs": [
    {
     "name": "stdout",
     "output_type": "stream",
     "text": [
      "/usr/lib/python-exec/python3.8/python: No module named spacy\n"
     ]
    }
   ],
   "source": [
    "# validate configuration\n",
    "!python -m spacy debug config ./config/config-basic.cfg"
   ]
  },
  {
   "cell_type": "code",
   "execution_count": 5,
   "id": "through-growth",
   "metadata": {},
   "outputs": [
    {
     "name": "stdout",
     "output_type": "stream",
     "text": [
      "/usr/lib/python-exec/python3.8/python: No module named spacy\n"
     ]
    }
   ],
   "source": [
    "!python -m spacy debug data ./config/config-basic.cfg"
   ]
  },
  {
   "cell_type": "markdown",
   "id": "valued-equivalent",
   "metadata": {},
   "source": [
    "# Train the model"
   ]
  },
  {
   "cell_type": "code",
   "execution_count": 6,
   "id": "fantastic-trader",
   "metadata": {},
   "outputs": [
    {
     "name": "stdout",
     "output_type": "stream",
     "text": [
      "/usr/lib/python-exec/python3.8/python: No module named spacy\n"
     ]
    }
   ],
   "source": [
    "!python -m spacy train ./config/config-basic.cfg --output ./models/basic"
   ]
  },
  {
   "cell_type": "markdown",
   "id": "generic-chapel",
   "metadata": {},
   "source": [
    "# Evaluate our best model output and save metrics to disk"
   ]
  },
  {
   "cell_type": "code",
   "execution_count": 7,
   "id": "attached-observer",
   "metadata": {},
   "outputs": [
    {
     "name": "stdout",
     "output_type": "stream",
     "text": [
      "/usr/lib/python-exec/python3.8/python: No module named spacy\n"
     ]
    }
   ],
   "source": [
    "!python -m spacy evaluate ./models/basic/model-best ./data/dev.spacy --output ./evaluate/basic-metrics.json"
   ]
  },
  {
   "cell_type": "code",
   "execution_count": 8,
   "id": "flexible-chicken",
   "metadata": {},
   "outputs": [
    {
     "name": "stdout",
     "output_type": "stream",
     "text": [
      "/usr/lib/python-exec/python3.8/python: No module named spacy\n"
     ]
    }
   ],
   "source": [
    "!python -m spacy debug data ./config/config-basic.cfg"
   ]
  },
  {
   "cell_type": "code",
   "execution_count": null,
   "id": "stupid-blink",
   "metadata": {},
   "outputs": [],
   "source": []
  }
 ],
 "metadata": {
  "kernelspec": {
   "display_name": "Python 3",
   "language": "python",
   "name": "python3"
  },
  "language_info": {
   "codemirror_mode": {
    "name": "ipython",
    "version": 3
   },
   "file_extension": ".py",
   "mimetype": "text/x-python",
   "name": "python",
   "nbconvert_exporter": "python",
   "pygments_lexer": "ipython3",
   "version": "3.7.9"
  }
 },
 "nbformat": 4,
 "nbformat_minor": 5
}
