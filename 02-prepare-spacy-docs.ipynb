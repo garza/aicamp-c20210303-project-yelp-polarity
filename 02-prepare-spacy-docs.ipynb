{
 "cells": [
  {
   "cell_type": "markdown",
   "id": "compliant-crazy",
   "metadata": {},
   "source": [
    "# 02-prepare-spacy-docs\n",
    "\n",
    "## Main Objectives\n",
    "\n",
    "- Creating SpaCy format datasets for training and testing/validation\n",
    "- Selection of a subset of data for training (defined by NUM_TEXTS)\n",
    "- Saving to disk for subsequent model training notebooks\n"
   ]
  },
  {
   "cell_type": "code",
   "execution_count": 1,
   "id": "brilliant-aquarium",
   "metadata": {},
   "outputs": [
    {
     "name": "stdout",
     "output_type": "stream",
     "text": [
      "2021-03-22 15:09:43.822412: I tensorflow/stream_executor/platform/default/dso_loader.cc:49] Successfully opened dynamic library libcudart.so.11.0\n",
      "Requirement already satisfied: en-core-web-lg==3.0.0 from https://github.com/explosion/spacy-models/releases/download/en_core_web_lg-3.0.0/en_core_web_lg-3.0.0-py3-none-any.whl#egg=en_core_web_lg==3.0.0 in /home/garza/.local/lib/python3.7/site-packages (3.0.0)\n",
      "Requirement already satisfied: spacy<3.1.0,>=3.0.0 in /home/garza/.local/lib/python3.7/site-packages (from en-core-web-lg==3.0.0) (3.0.5)\n",
      "Requirement already satisfied: pathy>=0.3.5 in /home/garza/.local/lib/python3.7/site-packages (from spacy<3.1.0,>=3.0.0->en-core-web-lg==3.0.0) (0.4.0)\n",
      "Requirement already satisfied: packaging>=20.0 in /usr/lib/python3.7/site-packages (from spacy<3.1.0,>=3.0.0->en-core-web-lg==3.0.0) (20.4)\n",
      "Requirement already satisfied: catalogue<2.1.0,>=2.0.1 in /home/garza/.local/lib/python3.7/site-packages (from spacy<3.1.0,>=3.0.0->en-core-web-lg==3.0.0) (2.0.1)\n",
      "Requirement already satisfied: requests<3.0.0,>=2.13.0 in /usr/lib/python3.7/site-packages (from spacy<3.1.0,>=3.0.0->en-core-web-lg==3.0.0) (2.24.0)\n",
      "Requirement already satisfied: setuptools in /usr/lib/python3.7/site-packages (from spacy<3.1.0,>=3.0.0->en-core-web-lg==3.0.0) (50.3.0)\n",
      "Requirement already satisfied: cymem<2.1.0,>=2.0.2 in /home/garza/.local/lib/python3.7/site-packages (from spacy<3.1.0,>=3.0.0->en-core-web-lg==3.0.0) (2.0.5)\n",
      "Requirement already satisfied: thinc<8.1.0,>=8.0.2 in /home/garza/.local/lib/python3.7/site-packages (from spacy<3.1.0,>=3.0.0->en-core-web-lg==3.0.0) (8.0.2)\n",
      "Requirement already satisfied: typing-extensions<4.0.0.0,>=3.7.4; python_version < \"3.8\" in /usr/lib/python3.7/site-packages (from spacy<3.1.0,>=3.0.0->en-core-web-lg==3.0.0) (3.7.4.3)\n",
      "Requirement already satisfied: preshed<3.1.0,>=3.0.2 in /home/garza/.local/lib/python3.7/site-packages (from spacy<3.1.0,>=3.0.0->en-core-web-lg==3.0.0) (3.0.5)\n",
      "Requirement already satisfied: numpy>=1.15.0 in /usr/lib/python3.7/site-packages (from spacy<3.1.0,>=3.0.0->en-core-web-lg==3.0.0) (1.19.4)\n",
      "Requirement already satisfied: wasabi<1.1.0,>=0.8.1 in /home/garza/.local/lib/python3.7/site-packages (from spacy<3.1.0,>=3.0.0->en-core-web-lg==3.0.0) (0.8.2)\n",
      "Requirement already satisfied: spacy-legacy<3.1.0,>=3.0.0 in /home/garza/.local/lib/python3.7/site-packages (from spacy<3.1.0,>=3.0.0->en-core-web-lg==3.0.0) (3.0.1)\n",
      "Requirement already satisfied: blis<0.8.0,>=0.4.0 in /home/garza/.local/lib/python3.7/site-packages (from spacy<3.1.0,>=3.0.0->en-core-web-lg==3.0.0) (0.7.4)\n",
      "Requirement already satisfied: pydantic<1.8.0,>=1.7.1 in /home/garza/.local/lib/python3.7/site-packages (from spacy<3.1.0,>=3.0.0->en-core-web-lg==3.0.0) (1.7.3)\n",
      "Requirement already satisfied: importlib-metadata>=0.20; python_version < \"3.8\" in /home/garza/.local/lib/python3.7/site-packages (from spacy<3.1.0,>=3.0.0->en-core-web-lg==3.0.0) (1.7.0)\n",
      "Requirement already satisfied: jinja2 in /usr/lib/python3.7/site-packages (from spacy<3.1.0,>=3.0.0->en-core-web-lg==3.0.0) (2.11.2)\n",
      "Requirement already satisfied: typer<0.4.0,>=0.3.0 in /home/garza/.local/lib/python3.7/site-packages (from spacy<3.1.0,>=3.0.0->en-core-web-lg==3.0.0) (0.3.2)\n",
      "Requirement already satisfied: srsly<3.0.0,>=2.4.0 in /home/garza/.local/lib/python3.7/site-packages (from spacy<3.1.0,>=3.0.0->en-core-web-lg==3.0.0) (2.4.0)\n",
      "Requirement already satisfied: murmurhash<1.1.0,>=0.28.0 in /home/garza/.local/lib/python3.7/site-packages (from spacy<3.1.0,>=3.0.0->en-core-web-lg==3.0.0) (1.0.5)\n",
      "Requirement already satisfied: tqdm<5.0.0,>=4.38.0 in /home/garza/.local/lib/python3.7/site-packages (from spacy<3.1.0,>=3.0.0->en-core-web-lg==3.0.0) (4.59.0)\n",
      "Requirement already satisfied: smart-open<4.0.0,>=2.2.0 in /home/garza/.local/lib/python3.7/site-packages (from pathy>=0.3.5->spacy<3.1.0,>=3.0.0->en-core-web-lg==3.0.0) (3.0.0)\n",
      "Requirement already satisfied: chardet<4,>=3.0.2 in /usr/lib/python3.7/site-packages (from requests<3.0.0,>=2.13.0->spacy<3.1.0,>=3.0.0->en-core-web-lg==3.0.0) (3.0.4)\n",
      "Requirement already satisfied: idna<3,>=2.5 in /usr/lib/python3.7/site-packages (from requests<3.0.0,>=2.13.0->spacy<3.1.0,>=3.0.0->en-core-web-lg==3.0.0) (2.10)\n",
      "Requirement already satisfied: urllib3!=1.25.0,!=1.25.1,<1.26,>=1.21.1 in /usr/lib/python3.7/site-packages (from requests<3.0.0,>=2.13.0->spacy<3.1.0,>=3.0.0->en-core-web-lg==3.0.0) (1.25.10)\n",
      "Requirement already satisfied: certifi>=2017.4.17 in /usr/lib/python3.7/site-packages (from requests<3.0.0,>=2.13.0->spacy<3.1.0,>=3.0.0->en-core-web-lg==3.0.0) (10001)\n",
      "Requirement already satisfied: zipp>=0.5 in /usr/lib/python3.7/site-packages (from importlib-metadata>=0.20; python_version < \"3.8\"->spacy<3.1.0,>=3.0.0->en-core-web-lg==3.0.0) (3.1.0)\n",
      "Requirement already satisfied: MarkupSafe>=0.23 in /usr/lib/python3.7/site-packages (from jinja2->spacy<3.1.0,>=3.0.0->en-core-web-lg==3.0.0) (1.1.1)\n",
      "Requirement already satisfied: click<7.2.0,>=7.1.1 in /usr/lib/python3.7/site-packages (from typer<0.4.0,>=0.3.0->spacy<3.1.0,>=3.0.0->en-core-web-lg==3.0.0) (7.1.2)\n",
      "\u001b[38;5;2m✔ Download and installation successful\u001b[0m\n",
      "You can now load the package via spacy.load('en_core_web_lg')\n"
     ]
    }
   ],
   "source": [
    "!python -m spacy download en_core_web_lg --user"
   ]
  },
  {
   "cell_type": "code",
   "execution_count": 1,
   "id": "timely-philadelphia",
   "metadata": {},
   "outputs": [],
   "source": [
    "import spacy\n",
    "from tqdm.auto import tqdm\n",
    "import pandas as pd\n",
    "import numpy as np\n",
    "import spacy\n",
    "\n",
    "import matplotlib.pyplot as plt\n",
    "%matplotlib inline\n",
    "\n",
    "# DocBin is spacys new way to store Docs in a \n",
    "# binary format for training later\n",
    "from spacy.tokens import DocBin\n",
    "\n",
    "yelp_test_df=pd.read_csv('yelp_test_df.csv').dropna()\n",
    "yelp_train_df=pd.read_csv('yelp_train_df.csv').dropna()\n",
    "\n",
    "# load a medium sized english language model in spacy\n",
    "nlp = spacy.load(\"en_core_web_lg\")\n",
    "# tok2vec = nlp.add_pipe(\"tok2vec\")\n",
    "\n",
    "# we are so far only interested in the first 5000 reviews\n",
    "# this will keep the training time short.\n",
    "NUM_TEXTS = 5000\n",
    "NUM_TEXTS_SMALL = 100"
   ]
  },
  {
   "cell_type": "markdown",
   "id": "weekly-detective",
   "metadata": {},
   "source": [
    "## Verify we have an equal number of positive and negative polarities"
   ]
  },
  {
   "cell_type": "code",
   "execution_count": 2,
   "id": "verbal-lodging",
   "metadata": {},
   "outputs": [
    {
     "data": {
      "image/png": "[encoded data removed]",
      "text/plain": [
       "<Figure size 432x288 with 1 Axes>"
      ]
     },
     "metadata": {
      "needs_background": "light"
     },
     "output_type": "display_data"
    }
   ],
   "source": [
    "ax=yelp_test_df.Score.value_counts().plot(kind='bar')\n",
    "fig = ax.get_figure()\n",
    "#fig.savefig(\"test-scores.png\")"
   ]
  },
  {
   "cell_type": "code",
   "execution_count": 3,
   "id": "reasonable-building",
   "metadata": {},
   "outputs": [
    {
     "data": {
      "image/png": "[encoded data removed]",
      "text/plain": [
       "<Figure size 432x288 with 1 Axes>"
      ]
     },
     "metadata": {
      "needs_background": "light"
     },
     "output_type": "display_data"
    }
   ],
   "source": [
    "ax=yelp_train_df.Score.value_counts().plot(kind='bar')\n",
    "fig = ax.get_figure()\n",
    "#fig.savefig(\"train-scores.png\")"
   ]
  },
  {
   "cell_type": "markdown",
   "id": "digital-wednesday",
   "metadata": {},
   "source": [
    "## make_docs(data)\n",
    "\n",
    "- transforms tuple list of a dataset into SpaCy doc format"
   ]
  },
  {
   "cell_type": "code",
   "execution_count": 4,
   "id": "western-committee",
   "metadata": {},
   "outputs": [],
   "source": [
    "def make_docs(data):\n",
    "    \"\"\"\n",
    "    this will take a list of texts and labels \n",
    "    and transform them in spacy documents\n",
    "    data: list(tuple(text, label))\n",
    "    returns: List(spacy.Doc.doc)\n",
    "    \"\"\"\n",
    "    docs = []\n",
    "    # nlp.pipe([texts]) is way faster than running \n",
    "    # nlp(text) for each text\n",
    "    # as_tuples allows us to pass in a tuple, \n",
    "    # the first one is treated as text\n",
    "    # the second one will get returned as it is.    \n",
    "    for doc, label in tqdm(nlp.pipe(data, as_tuples=True), total = len(data)):\n",
    "        # we need to set the (text)cat(egory) for each document\n",
    "        if label == 1:\n",
    "            doc.cats['positive'] = 1.0\n",
    "            doc.cats['negative'] = 0.0\n",
    "        else:\n",
    "            doc.cats['positive'] = 0.0\n",
    "            doc.cats['negative'] = 1.0\n",
    "        \n",
    "        docs.append(doc)\n",
    "        #print(doc.cats)\n",
    "    # put them into a nice list\n",
    "    return docs"
   ]
  },
  {
   "cell_type": "markdown",
   "id": "ordinary-notion",
   "metadata": {},
   "source": [
    "## Get our csv data into the tuple list format, make sure and keep an equal number of positive and negative, inspect and plot for verification"
   ]
  },
  {
   "cell_type": "code",
   "execution_count": 8,
   "id": "typical-beads",
   "metadata": {},
   "outputs": [
    {
     "name": "stdout",
     "output_type": "stream",
     "text": [
      "(5000, 4)\n",
      "(100, 4)\n"
     ]
    },
    {
     "data": {
      "text/plain": [
       "[('great find frequent nearby bryant street restaurant know place exist friend bring today hot chocolate immediately fall love barista friendly hot chocolate great incredibly delicious look pastry need soon try nice ambience quiet uncomfortable great place study read visit friend expect wait minute drink worth :-)',\n",
       "  1),\n",
       " ('parking suck smell way way overpriced bag price 15 apparently donate yard sale tag 3 lot junk cash place atm clothe sort color cool',\n",
       "  0)]"
      ]
     },
     "execution_count": 8,
     "metadata": {},
     "output_type": "execute_result"
    }
   ],
   "source": [
    "train_pos_df=yelp_train_df[yelp_train_df.Score==1][:int(NUM_TEXTS/2)]\n",
    "train_neg_df=yelp_train_df[yelp_train_df.Score==0][:int(NUM_TEXTS/2)]\n",
    "train_pos_sm_df=yelp_train_df[yelp_train_df.Score==1][:int(NUM_TEXTS_SMALL/2)]\n",
    "train_neg_sm_df=yelp_train_df[yelp_train_df.Score==0][:int(NUM_TEXTS_SMALL/2)]\n",
    "\n",
    "train_df=train_pos_df.append(train_neg_df)\n",
    "train_sm_df=train_pos_sm_df.append(train_neg_sm_df)\n",
    "\n",
    "#np.random.shuffle(train_df)\n",
    "\n",
    "train_df['tuples'] = train_df.apply(\n",
    "    lambda row: (row['Text'],row['Score']), axis=1)\n",
    "train = train_df['tuples'].tolist()\n",
    "np.random.shuffle(train)\n",
    "\n",
    "train_sm_df['tuples'] = train_sm_df.apply(\n",
    "    lambda row: (row['Text'],row['Score']), axis=1)\n",
    "train_sm = train_sm_df['tuples'].tolist()\n",
    "np.random.shuffle(train_sm)\n",
    "\n",
    "print(train_df.shape)\n",
    "print(train_sm_df.shape)\n",
    "train[:2]\n",
    "#train_df.head()"
   ]
  },
  {
   "cell_type": "code",
   "execution_count": 9,
   "id": "outside-injury",
   "metadata": {},
   "outputs": [
    {
     "data": {
      "image/png": "[encoded data removed]",
      "text/plain": [
       "<Figure size 432x288 with 1 Axes>"
      ]
     },
     "metadata": {
      "needs_background": "light"
     },
     "output_type": "display_data"
    }
   ],
   "source": [
    "ax=train_df.Score.value_counts().plot(kind='bar')\n",
    "fig = ax.get_figure()\n",
    "#fig.savefig(\"train-scores.png\")"
   ]
  },
  {
   "cell_type": "code",
   "execution_count": 10,
   "id": "earlier-content",
   "metadata": {},
   "outputs": [
    {
     "name": "stdout",
     "output_type": "stream",
     "text": [
      "(5000, 4)\n",
      "(100, 4)\n"
     ]
    },
    {
     "data": {
      "text/plain": [
       "[('new favorite ht crowd worth selection hts price price different ht 3 mile away ht definitely notice difference location light look bright clean love shiny ht matthews local produce selection high price win suppose',\n",
       "  1),\n",
       " ('great girl time daughter mani pedi love offer service menu like sushi restaurant foot soft cnd shellac french manicure kelly nice answer question great job p.s. leave daughter realize toe smudge fix smile :) definitely',\n",
       "  1)]"
      ]
     },
     "execution_count": 10,
     "metadata": {},
     "output_type": "execute_result"
    }
   ],
   "source": [
    "test_pos_df=yelp_test_df[yelp_test_df.Score==1][:int(NUM_TEXTS/2)]\n",
    "test_neg_df=yelp_test_df[yelp_test_df.Score==0][:int(NUM_TEXTS/2)]\n",
    "test_df=test_pos_df.append(test_neg_df)\n",
    "test_pos_sm_df=yelp_test_df[yelp_test_df.Score==1][:int(NUM_TEXTS_SMALL/2)]\n",
    "test_neg_sm_df=yelp_test_df[yelp_test_df.Score==0][:int(NUM_TEXTS_SMALL/2)]\n",
    "test_sm_df=test_pos_sm_df.append(test_neg_sm_df)\n",
    "\n",
    "test_df['tuples'] = test_df.apply(\n",
    "    lambda row: (row['Text'],row['Score']), axis=1)\n",
    "test = test_df['tuples'].tolist()\n",
    "np.random.shuffle(test)\n",
    "print(test_df.shape)\n",
    "test_sm_df['tuples'] = test_sm_df.apply(\n",
    "    lambda row: (row['Text'],row['Score']), axis=1)\n",
    "test_sm = test_sm_df['tuples'].tolist()\n",
    "np.random.shuffle(test_sm)\n",
    "print(test_sm_df.shape)\n",
    "\n",
    "test[:2]\n",
    "#test_df.head()\n"
   ]
  },
  {
   "cell_type": "code",
   "execution_count": 11,
   "id": "scientific-pencil",
   "metadata": {},
   "outputs": [
    {
     "data": {
      "image/png": "[encoded data removed]",
      "text/plain": [
       "<Figure size 432x288 with 1 Axes>"
      ]
     },
     "metadata": {
      "needs_background": "light"
     },
     "output_type": "display_data"
    }
   ],
   "source": [
    "ax=test_df.Score.value_counts().plot(kind='bar')\n",
    "fig = ax.get_figure()\n",
    "#fig.savefig(\"test-scores.png\")"
   ]
  },
  {
   "cell_type": "markdown",
   "id": "transparent-daniel",
   "metadata": {},
   "source": [
    "# Save our SpaCy formatted docs for subsequent training notebooks"
   ]
  },
  {
   "cell_type": "code",
   "execution_count": 12,
   "id": "partial-village",
   "metadata": {},
   "outputs": [
    {
     "data": {
      "application/vnd.jupyter.widget-view+json": {
       "model_id": "ab30c17fd2df4ac8b29040792919c4d6",
       "version_major": 2,
       "version_minor": 0
      },
      "text/plain": [
       "  0%|          | 0/5000 [00:00<?, ?it/s]"
      ]
     },
     "metadata": {},
     "output_type": "display_data"
    },
    {
     "data": {
      "application/vnd.jupyter.widget-view+json": {
       "model_id": "222bcaa08302452f85337fa6e27cf184",
       "version_major": 2,
       "version_minor": 0
      },
      "text/plain": [
       "  0%|          | 0/5000 [00:00<?, ?it/s]"
      ]
     },
     "metadata": {},
     "output_type": "display_data"
    },
    {
     "data": {
      "application/vnd.jupyter.widget-view+json": {
       "model_id": "fa398e3c667a4ff7a2d13c9c4156fd1e",
       "version_major": 2,
       "version_minor": 0
      },
      "text/plain": [
       "  0%|          | 0/100 [00:00<?, ?it/s]"
      ]
     },
     "metadata": {},
     "output_type": "display_data"
    },
    {
     "data": {
      "application/vnd.jupyter.widget-view+json": {
       "model_id": "3d660566e89549a2b495e20f10f9b933",
       "version_major": 2,
       "version_minor": 0
      },
      "text/plain": [
       "  0%|          | 0/100 [00:00<?, ?it/s]"
      ]
     },
     "metadata": {},
     "output_type": "display_data"
    }
   ],
   "source": [
    "# first we need to transform all the training data\n",
    "train_docs = make_docs(train[:NUM_TEXTS])\n",
    "# then we save it in a binary file to disc\n",
    "doc_bin = DocBin(docs=train_docs)\n",
    "doc_bin.to_disk(\"./data/train.spacy\")\n",
    "\n",
    "# repeat for validation data\n",
    "valid_docs = make_docs(test[:NUM_TEXTS])\n",
    "doc_bin = DocBin(docs=valid_docs)\n",
    "doc_bin.to_disk(\"./data/dev.spacy\")\n",
    "\n",
    "# first we need to transform all the training data\n",
    "train_sm_docs = make_docs(train_sm[:NUM_TEXTS])\n",
    "# then we save it in a binary file to disc\n",
    "doc_bin = DocBin(docs=train_sm_docs)\n",
    "doc_bin.to_disk(\"./data/train_sm.spacy\")\n",
    "\n",
    "# repeat for validation data\n",
    "valid_sm_docs = make_docs(test_sm[:NUM_TEXTS])\n",
    "doc_bin = DocBin(docs=valid_sm_docs)\n",
    "doc_bin.to_disk(\"./data/dev_sm.spacy\")\n",
    "\n"
   ]
  },
  {
   "cell_type": "code",
   "execution_count": 13,
   "id": "median-leader",
   "metadata": {},
   "outputs": [
    {
     "name": "stdout",
     "output_type": "stream",
     "text": [
      "dev_sm.spacy  dev.spacy  train_sm.spacy  train.spacy\n"
     ]
    }
   ],
   "source": [
    "!ls data"
   ]
  },
  {
   "cell_type": "code",
   "execution_count": 14,
   "id": "existing-ethernet",
   "metadata": {},
   "outputs": [
    {
     "data": {
      "text/plain": [
       "[great find frequent nearby bryant street restaurant know place exist friend bring today hot chocolate immediately fall love barista friendly hot chocolate great incredibly delicious look pastry need soon try nice ambience quiet uncomfortable great place study read visit friend expect wait minute drink worth :-),\n",
       " parking suck smell way way overpriced bag price 15 apparently donate yard sale tag 3 lot junk cash place atm clothe sort color cool]"
      ]
     },
     "execution_count": 14,
     "metadata": {},
     "output_type": "execute_result"
    }
   ],
   "source": [
    "train_docs[:2]"
   ]
  },
  {
   "cell_type": "code",
   "execution_count": null,
   "id": "vanilla-istanbul",
   "metadata": {},
   "outputs": [],
   "source": []
  }
 ],
 "metadata": {
  "kernelspec": {
   "display_name": "Python 3",
   "language": "python",
   "name": "python3"
  },
  "language_info": {
   "codemirror_mode": {
    "name": "ipython",
    "version": 3
   },
   "file_extension": ".py",
   "mimetype": "text/x-python",
   "name": "python",
   "nbconvert_exporter": "python",
   "pygments_lexer": "ipython3",
   "version": "3.8.8"
  }
 },
 "nbformat": 4,
 "nbformat_minor": 5
}
