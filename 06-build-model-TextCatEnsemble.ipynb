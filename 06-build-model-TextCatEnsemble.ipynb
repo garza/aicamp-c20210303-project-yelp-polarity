{
 "cells": [
  {
   "cell_type": "markdown",
   "id": "acoustic-finish",
   "metadata": {},
   "source": [
    "# 06-build-model-TextCatEnsemble\n",
    "\n",
    "## Main objectives:\n",
    "\n",
    "- Use spaCy's TextCatEnsemble to train a stacked ensemble of a linear bag-of-words model and a neural network model.\n",
    "    - [https://spacy.io/api/architectures#TextCatEnsemble](https://spacy.io/api/architectures#TextCatEnsemble)\n",
    "- Use spaCy generated docs to train this model\n",
    "- Run basic validation and evaluation "
   ]
  },
  {
   "cell_type": "code",
   "execution_count": 41,
   "id": "romantic-medicine",
   "metadata": {},
   "outputs": [],
   "source": [
    "import spacy\n",
    "# load an english language model in spacy\n",
    "nlp = spacy.load(\"en_core_web_lg\")"
   ]
  },
  {
   "cell_type": "code",
   "execution_count": 1,
   "id": "neural-lodge",
   "metadata": {},
   "outputs": [
    {
     "name": "stdout",
     "output_type": "stream",
     "text": [
      "dev.spacy  train.spacy\n"
     ]
    }
   ],
   "source": [
    "!ls data"
   ]
  },
  {
   "cell_type": "markdown",
   "id": "innovative-intro",
   "metadata": {},
   "source": [
    "# Validate configuration file"
   ]
  },
  {
   "cell_type": "code",
   "execution_count": 2,
   "id": "prepared-patrick",
   "metadata": {},
   "outputs": [
    {
     "name": "stdout",
     "output_type": "stream",
     "text": [
      "2021-03-16 22:57:29.042865: I tensorflow/stream_executor/platform/default/dso_loader.cc:49] Successfully opened dynamic library libcudart.so.11.0\n",
      "\u001b[1m\n",
      "============================= Config validation =============================\u001b[0m\n",
      "\u001b[1m\n",
      "===================== Config validation for [initialize] =====================\u001b[0m\n",
      "\u001b[1m\n",
      "====================== Config validation for [training] ======================\u001b[0m\n",
      "\u001b[38;5;2m✔ Config is valid\u001b[0m\n"
     ]
    }
   ],
   "source": [
    "# validate configuration\n",
    "!python -m spacy debug config ./config/config-TextCatEnsemble.cfg"
   ]
  },
  {
   "cell_type": "markdown",
   "id": "frozen-dream",
   "metadata": {},
   "source": [
    "# Train the model"
   ]
  },
  {
   "cell_type": "code",
   "execution_count": 3,
   "id": "canadian-accessory",
   "metadata": {},
   "outputs": [
    {
     "name": "stdout",
     "output_type": "stream",
     "text": [
      "2021-03-16 22:57:30.912176: I tensorflow/stream_executor/platform/default/dso_loader.cc:49] Successfully opened dynamic library libcudart.so.11.0\n",
      "\u001b[38;5;4mℹ Using CPU\u001b[0m\n",
      "\u001b[1m\n",
      "=========================== Initializing pipeline ===========================\u001b[0m\n",
      "[2021-03-16 22:57:31,952] [INFO] Set up nlp object from config\n",
      "[2021-03-16 22:57:31,962] [INFO] Pipeline: ['tok2vec', 'textcat']\n",
      "[2021-03-16 22:57:31,966] [INFO] Created vocabulary\n",
      "[2021-03-16 22:57:31,966] [INFO] Finished initializing nlp object\n",
      "[2021-03-16 22:57:39,291] [INFO] Initialized pipeline components: ['tok2vec', 'textcat']\n",
      "\u001b[38;5;2m✔ Initialized pipeline\u001b[0m\n",
      "\u001b[1m\n",
      "============================= Training pipeline =============================\u001b[0m\n",
      "\u001b[38;5;4mℹ Pipeline: ['tok2vec', 'textcat']\u001b[0m\n",
      "\u001b[38;5;4mℹ Initial learn rate: 0.001\u001b[0m\n",
      "E    #       LOSS TOK2VEC  LOSS TEXTCAT  CATS_SCORE  SCORE \n",
      "---  ------  ------------  ------------  ----------  ------\n",
      "  0       0          0.00          0.00        0.32    0.00\n",
      "  0     100          0.00         16.43       76.85    0.77\n",
      "  0     200          0.00         12.06       25.84    0.26\n",
      "  0     300          0.00         14.37       76.02    0.76\n",
      "  0     400          0.00         16.85       58.10    0.58\n",
      "  0     500          0.00          6.84       62.52    0.63\n",
      "  0     600          0.00          6.24       43.55    0.44\n",
      "  0     700          0.00          5.47       61.92    0.62\n",
      "  0     800          0.00          7.02       79.71    0.80\n",
      "  0     900          0.00          2.49       52.03    0.52\n",
      "  0    1000          0.00          2.75       65.34    0.65\n",
      "  0    1100          0.00          2.40       80.64    0.81\n",
      "  0    1200          0.00          1.40       68.21    0.68\n",
      "  0    1300          0.00          1.57       56.69    0.57\n",
      "  0    1400          0.00          0.92       58.38    0.58\n",
      "  1    1500          0.00          0.67       58.90    0.59\n",
      "  1    1600          0.00          0.25       63.11    0.63\n",
      "  1    1700          0.00          0.14       61.80    0.62\n",
      "  1    1800          0.00          0.21       72.04    0.72\n",
      "  1    1900          0.00          0.09       63.16    0.63\n",
      "  1    2000          0.00          0.08       69.62    0.70\n",
      "  2    2100          0.00          0.03       63.80    0.64\n",
      "  2    2200          0.00          0.02       65.72    0.66\n",
      "  2    2300          0.00          0.02       63.54    0.64\n",
      "  3    2400          0.00          0.02       66.68    0.67\n",
      "  3    2500          0.00          0.01       62.83    0.63\n",
      "  3    2600          0.00          0.01       67.43    0.67\n",
      "  4    2700          0.00          0.01       64.85    0.65\n",
      "  4    2800          0.00          0.01       68.16    0.68\n",
      "  4    2900          0.00          0.01       66.44    0.66\n",
      "  5    3000          0.00          0.01       59.67    0.60\n",
      "  5    3100          0.00          0.00       64.20    0.64\n",
      "  5    3200          0.00          0.01       62.68    0.63\n",
      "  6    3300          0.00          0.00       63.07    0.63\n",
      "  6    3400          0.00          0.01       69.02    0.69\n",
      "  6    3500          0.00          0.01       59.61    0.60\n",
      "\u001b[38;5;2m✔ Saved pipeline to output directory\u001b[0m\n",
      "models/textCatEnsemble/model-last\n"
     ]
    }
   ],
   "source": [
    "!python -m spacy train ./config/config-TextCatEnsemble.cfg --output ./models/textCatEnsemble"
   ]
  },
  {
   "cell_type": "markdown",
   "id": "separated-glenn",
   "metadata": {},
   "source": [
    "# Evaluate our best model output and save metrics to disk\n",
    "\n",
    "For hyperparameter tuning, experimented with different BOW attributes and TexCatEnsemble parameters:\n",
    "\n",
    "- ngram_size = 4 (TODO: should try again with ngram_size = 2 after doign BOW analysis)\n",
    "- adjusted width to 128, nominal performance gain\n",
    "- tok2vec model embed attributed modified to include:\n",
    "    - \"ORTH\", \"LOWER\", \"NORM\", \"PREFIX\", \"SUFFIX\", \"SHAPE\", \"ID\"\n",
    "    - [2000, 2000, 1000, 1000, 1000, 1000]\n",
    "\n",
    "Also adjusted the width size from 64 to 96, which only resulted in a nominal increase in performance.\n",
    "\n",
    "Training was tested on training datasets of 100, 500, 1000 and finally, 5000."
   ]
  },
  {
   "cell_type": "code",
   "execution_count": 4,
   "id": "military-stock",
   "metadata": {},
   "outputs": [
    {
     "name": "stdout",
     "output_type": "stream",
     "text": [
      "2021-03-16 23:08:20.469265: I tensorflow/stream_executor/platform/default/dso_loader.cc:49] Successfully opened dynamic library libcudart.so.11.0\n",
      "\u001b[38;5;4mℹ Using CPU\u001b[0m\n",
      "\u001b[1m\n",
      "================================== Results ==================================\u001b[0m\n",
      "\n",
      "TOK                 100.00\n",
      "TEXTCAT (macro F)   80.64 \n",
      "SPEED               29524 \n",
      "\n",
      "\u001b[1m\n",
      "=========================== Textcat F (per label) ===========================\u001b[0m\n",
      "\n",
      "                P       R       F\n",
      "positive   100.00   67.56   80.64\n",
      "\n",
      "\u001b[1m\n",
      "======================== Textcat ROC AUC (per label) ========================\u001b[0m\n",
      "\n",
      "           ROC AUC\n",
      "positive      0.89\n",
      "\n",
      "\u001b[38;5;2m✔ Saved results to evaluate/model-textCatEnsemble-metrics.json\u001b[0m\n"
     ]
    }
   ],
   "source": [
    "!python -m spacy evaluate ./models/textCatEnsemble/model-best ./data/dev.spacy --output ./evaluate/model-textCatEnsemble-metrics.json"
   ]
  }
 ],
 "metadata": {
  "kernelspec": {
   "display_name": "Python 3",
   "language": "python",
   "name": "python3"
  },
  "language_info": {
   "codemirror_mode": {
    "name": "ipython",
    "version": 3
   },
   "file_extension": ".py",
   "mimetype": "text/x-python",
   "name": "python",
   "nbconvert_exporter": "python",
   "pygments_lexer": "ipython3",
   "version": "3.7.9"
  }
 },
 "nbformat": 4,
 "nbformat_minor": 5
}
