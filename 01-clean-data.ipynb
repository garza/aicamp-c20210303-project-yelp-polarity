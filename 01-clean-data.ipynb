{
 "cells": [
  {
   "cell_type": "markdown",
   "metadata": {},
   "source": [
    "# 01-clean-data\n",
    "\n",
    "## Main Objectives\n",
    "\n",
    "- Dataset inspection and sanity checking\n",
    "- Basic function based cleaning\n",
    "- SpaCy based cleaning and normalization\n",
    "- Saving cleaned dataset for subsequent notebooks\n"
   ]
  },
  {
   "cell_type": "code",
   "execution_count": 1,
   "metadata": {
    "colab": {
     "base_uri": "https://localhost:8080/"
    },
    "id": "4N20UNLaQkTx",
    "outputId": "cd76b3fd-4a67-4df4-fbc4-404c1fda5676"
   },
   "outputs": [
    {
     "name": "stdout",
     "output_type": "stream",
     "text": [
      "01-clean-data.ipynb\t\t      evaluate\n",
      "02-prepare-spacy-docs.ipynb\t      models\n",
      "03-build-model-basic.ipynb\t      README.md\n",
      "04-build-model-TextCatBOW.ipynb       scratch-testing.ipynb\n",
      "05-build-model-TextCatCNN.ipynb       yelp_review_polarity_csv\n",
      "06-build-model-TextCatEnsemble.ipynb  yelp_review_polarity_csv.tgz\n",
      "07-evaluate-review.ipynb\t      yelp_test_df.csv\n",
      "config\t\t\t\t      yelp_train_df.csv\n",
      "data\n",
      "2021-03-17 20:19:11.360005: I tensorflow/stream_executor/platform/default/dso_loader.cc:49] Successfully opened dynamic library libcudart.so.11.0\n",
      "\u001b[31mERROR: (Gentoo) Please run pip with the --user option to avoid breaking python-exec\u001b[0m\n"
     ]
    }
   ],
   "source": [
    "!ls\n",
    "!python -m spacy download en_core_web_lg"
   ]
  },
  {
   "cell_type": "code",
   "execution_count": 2,
   "metadata": {
    "colab": {
     "base_uri": "https://localhost:8080/"
    },
    "id": "tu2RvhdMQwjj",
    "outputId": "23c51f61-da1b-43e0-d33a-edb6bad667e7"
   },
   "outputs": [
    {
     "name": "stdout",
     "output_type": "stream",
     "text": [
      "01-clean-data.ipynb\t\t      evaluate\n",
      "02-prepare-spacy-docs.ipynb\t      models\n",
      "03-build-model-basic.ipynb\t      README.md\n",
      "04-build-model-TextCatBOW.ipynb       scratch-testing.ipynb\n",
      "05-build-model-TextCatCNN.ipynb       yelp_review_polarity_csv\n",
      "06-build-model-TextCatEnsemble.ipynb  yelp_review_polarity_csv.tgz\n",
      "07-evaluate-review.ipynb\t      yelp_test_df.csv\n",
      "config\t\t\t\t      yelp_train_df.csv\n",
      "data\n",
      "--2021-03-17 20:19:17--  https://s3.amazonaws.com/fast-ai-nlp/yelp_review_polarity_csv.tgz\n",
      "Resolving s3.amazonaws.com... 52.217.92.46\n",
      "Connecting to s3.amazonaws.com|52.217.92.46|:443... connected.\n",
      "HTTP request sent, awaiting response... 200 OK\n",
      "Length: 166373201 (159M) [application/x-tar]\n",
      "Saving to: ‘yelp_review_polarity_csv.tgz’\n",
      "\n",
      "yelp_review_polarit 100%[===================>] 158.67M  9.42MB/s    in 12s     \n",
      "\n",
      "2021-03-17 20:19:34 (13.4 MB/s) - ‘yelp_review_polarity_csv.tgz’ saved [166373201/166373201]\n",
      "\n",
      "yelp_review_polarity_csv/\n",
      "yelp_review_polarity_csv/train.csv\n",
      "yelp_review_polarity_csv/readme.txt\n",
      "yelp_review_polarity_csv/test.csv\n"
     ]
    }
   ],
   "source": [
    "!ls\n",
    "!wget https://s3.amazonaws.com/fast-ai-nlp/yelp_review_polarity_csv.tgz -O yelp_review_polarity_csv.tgz\n",
    "!tar xzvf yelp_review_polarity_csv.tgz"
   ]
  },
  {
   "cell_type": "code",
   "execution_count": 3,
   "metadata": {
    "id": "Vs3i2UcuQuxt"
   },
   "outputs": [],
   "source": [
    "import pandas as pd\n",
    "import numpy as np\n",
    "import spacy\n",
    "import re\n",
    "import string\n",
    "from spacy.lang.en.examples import sentences \n",
    "from spacy import displacy\n",
    "from spacy.util import minibatch, compounding\n",
    "from bs4 import BeautifulSoup\n",
    "from nltk.tokenize import RegexpTokenizer\n",
    "\n",
    "import nltk\n",
    "\n",
    "import matplotlib.pyplot as plt\n",
    "%matplotlib inline"
   ]
  },
  {
   "cell_type": "markdown",
   "metadata": {},
   "source": [
    "## Load raw data, verify size of both sets (training and test)\n",
    "\n",
    "- We should have 560,000 rows for training and 38,000 rows for test/validation\n",
    "- Use head() to take a look at the current format"
   ]
  },
  {
   "cell_type": "code",
   "execution_count": 4,
   "metadata": {
    "colab": {
     "base_uri": "https://localhost:8080/"
    },
    "id": "LC8v990a6lZS",
    "outputId": "f3d0757a-4a7a-4d62-c9c3-d81d3bafc5bd"
   },
   "outputs": [
    {
     "name": "stdout",
     "output_type": "stream",
     "text": [
      "training data set size:\n",
      "(560000, 2)\n",
      "test data set size:\n",
      "(38000, 2)\n"
     ]
    }
   ],
   "source": [
    "data_names=['Score', 'Raw']\n",
    "yelp_test_df=pd.read_csv('yelp_review_polarity_csv/test.csv', names=data_names)\n",
    "yelp_train_df=pd.read_csv('yelp_review_polarity_csv/train.csv', names=data_names)\n",
    "\n",
    "print('training data set size:')\n",
    "print(yelp_train_df.shape)\n",
    "print('test data set size:')\n",
    "print(yelp_test_df.shape)"
   ]
  },
  {
   "cell_type": "code",
   "execution_count": 5,
   "metadata": {
    "colab": {
     "base_uri": "https://localhost:8080/",
     "height": 204
    },
    "id": "t25xX82xiyJq",
    "outputId": "9814de35-917b-4f2d-bba0-37292bc762e0"
   },
   "outputs": [
    {
     "data": {
      "text/html": [
       "<div>\n",
       "<style scoped>\n",
       "    .dataframe tbody tr th:only-of-type {\n",
       "        vertical-align: middle;\n",
       "    }\n",
       "\n",
       "    .dataframe tbody tr th {\n",
       "        vertical-align: top;\n",
       "    }\n",
       "\n",
       "    .dataframe thead th {\n",
       "        text-align: right;\n",
       "    }\n",
       "</style>\n",
       "<table border=\"1\" class=\"dataframe\">\n",
       "  <thead>\n",
       "    <tr style=\"text-align: right;\">\n",
       "      <th></th>\n",
       "      <th>Score</th>\n",
       "      <th>Raw</th>\n",
       "    </tr>\n",
       "  </thead>\n",
       "  <tbody>\n",
       "    <tr>\n",
       "      <th>0</th>\n",
       "      <td>1</td>\n",
       "      <td>Unfortunately, the frustration of being Dr. Go...</td>\n",
       "    </tr>\n",
       "    <tr>\n",
       "      <th>1</th>\n",
       "      <td>2</td>\n",
       "      <td>Been going to Dr. Goldberg for over 10 years. ...</td>\n",
       "    </tr>\n",
       "    <tr>\n",
       "      <th>2</th>\n",
       "      <td>1</td>\n",
       "      <td>I don't know what Dr. Goldberg was like before...</td>\n",
       "    </tr>\n",
       "    <tr>\n",
       "      <th>3</th>\n",
       "      <td>1</td>\n",
       "      <td>I'm writing this review to give you a heads up...</td>\n",
       "    </tr>\n",
       "    <tr>\n",
       "      <th>4</th>\n",
       "      <td>2</td>\n",
       "      <td>All the food is great here. But the best thing...</td>\n",
       "    </tr>\n",
       "  </tbody>\n",
       "</table>\n",
       "</div>"
      ],
      "text/plain": [
       "   Score                                                Raw\n",
       "0      1  Unfortunately, the frustration of being Dr. Go...\n",
       "1      2  Been going to Dr. Goldberg for over 10 years. ...\n",
       "2      1  I don't know what Dr. Goldberg was like before...\n",
       "3      1  I'm writing this review to give you a heads up...\n",
       "4      2  All the food is great here. But the best thing..."
      ]
     },
     "execution_count": 5,
     "metadata": {},
     "output_type": "execute_result"
    }
   ],
   "source": [
    "yelp_train_df.head()"
   ]
  },
  {
   "cell_type": "markdown",
   "metadata": {
    "id": "LkuAW5Arihwz"
   },
   "source": [
    "# Clean Up Pass #1\n",
    "\n",
    "Rudimentary function based text cleaning\n",
    "\n",
    "- remove extra new line characters\n",
    "- remove some special characters\n",
    "- for later datasets (commented out for now), remove punctuation and more special characters"
   ]
  },
  {
   "cell_type": "code",
   "execution_count": 6,
   "metadata": {
    "id": "DdX_8YiveLjm"
   },
   "outputs": [],
   "source": [
    "def remove_special_characters(text, remove_digits=False):\n",
    "    pattern = r'[^a-zA-z0-9\\s]' if not remove_digits else r'[^a-zA-z\\s]'\n",
    "    text = re.sub(pattern, '', text)\n",
    "    return text\n",
    "\n",
    "def normalize_corpus(corpus):\n",
    "  normalized_corpus = []\n",
    "  for doc in corpus:\n",
    "    #doc = doc.lower()\n",
    "    doc = re.sub(r'[\\r|\\n|\\r\\n]+', ' ',doc)\n",
    "    doc = re.sub('\\\\\\\\n',' ',doc)\n",
    "    special_char_pattern = re.compile(r'([{.(-)!}])')\n",
    "    #doc = special_char_pattern.sub(\" \\\\1 \", doc)\n",
    "    #doc = remove_special_characters(doc, remove_digits=True)  \n",
    "    doc = re.sub(' +', ' ', doc)\n",
    "    normalized_corpus.append(doc)\n",
    "\n",
    "  return normalized_corpus"
   ]
  },
  {
   "cell_type": "markdown",
   "metadata": {},
   "source": [
    "## Test on a sample review or two to verify cleaning functions"
   ]
  },
  {
   "cell_type": "code",
   "execution_count": 7,
   "metadata": {
    "colab": {
     "base_uri": "https://localhost:8080/"
    },
    "id": "0VoV21qojE2j",
    "outputId": "4ff97506-1638-4c7c-ce5c-8dd434c37b55"
   },
   "outputs": [
    {
     "name": "stdout",
     "output_type": "stream",
     "text": [
      "This Starbucks is teeny-tiny!\\n\\nSeating inside is VERY limited.  This is a Starbucks to grab and go and continue your shopping at the Waterfront.\\n\\nBaristas are friendly and fast.\n",
      "Okay, so hopefully you haven't been enjoying happy hour @ Riley's Pour House before you read this or you might not be able to follow the lilting Irish owners. \\n\\nTo recap: Murphy's Pour House from 1979-1985. Sullivan's Pour House from 1995-2002. Paddy's Pour House from 2002-2012. And, bagpipe please, Riley's Pour House opens March 1 of 2012. Still with me?\\n\\nIt's a tiny long bar just like the old Irish pubs. No more smoking allowed. Hurrah!!!  Same lousy service. \\n\\nMy guess is that the entire place needs (no, strike that .... demands) an automated food/beverage ticketing system. None of the cooks, bartenders, or waitresses know who ordered what nor what ticket belongs to which table. It's actually pretty funny if you're not a) hungry or b) thirsty. \\n\\nI really really want this place to do better. We need more Irish pubs and local old time watering holes. \\n\\nGet it together, Murphy's ... er, I mean Sullivan's....er, I mean Paddy's or is it Riley's? ;  ).  Whatever the case, they have cold Guinness. And Irish music.  And fun patrons.\n",
      "This Starbucks is teeny-tiny! Seating inside is VERY limited. This is a Starbucks to grab and go and continue your shopping at the Waterfront. Baristas are friendly and fast.\n",
      "Okay, so hopefully you haven't been enjoying happy hour @ Riley's Pour House before you read this or you might not be able to follow the lilting Irish owners. To recap: Murphy's Pour House from 1979-1985. Sullivan's Pour House from 1995-2002. Paddy's Pour House from 2002-2012. And, bagpipe please, Riley's Pour House opens March 1 of 2012. Still with me? It's a tiny long bar just like the old Irish pubs. No more smoking allowed. Hurrah!!! Same lousy service. My guess is that the entire place needs (no, strike that .... demands) an automated food/beverage ticketing system. None of the cooks, bartenders, or waitresses know who ordered what nor what ticket belongs to which table. It's actually pretty funny if you're not a) hungry or b) thirsty. I really really want this place to do better. We need more Irish pubs and local old time watering holes. Get it together, Murphy's ... er, I mean Sullivan's....er, I mean Paddy's or is it Riley's? ; ). Whatever the case, they have cold Guinness. And Irish music. And fun patrons.\n"
     ]
    }
   ],
   "source": [
    "test = []\n",
    "print(yelp_train_df['Raw'][90])\n",
    "test.append(yelp_train_df['Raw'][90])\n",
    "print(yelp_train_df['Raw'][40])\n",
    "test.append(yelp_train_df['Raw'][40])\n",
    "test_clean = normalize_corpus(test)\n",
    "print(test_clean[0])\n",
    "print(test_clean[1])"
   ]
  },
  {
   "cell_type": "markdown",
   "metadata": {},
   "source": [
    "## Save our first pass clean in our dataframe under 'Clean'"
   ]
  },
  {
   "cell_type": "code",
   "execution_count": 8,
   "metadata": {
    "id": "-sJjfGrZjKfq"
   },
   "outputs": [],
   "source": [
    "yelp_test_df['Clean'] = normalize_corpus(yelp_test_df['Raw'])\n",
    "yelp_train_df['Clean'] = normalize_corpus(yelp_train_df['Raw'])"
   ]
  },
  {
   "cell_type": "markdown",
   "metadata": {},
   "source": [
    "# Clean Up Pass #2\n",
    "Using SpaCy, remove stop works, lemmatize, lowercase, strip extra spaces and remove punctuation.  Only keep tokens identified as '-PRON-'"
   ]
  },
  {
   "cell_type": "code",
   "execution_count": 9,
   "metadata": {
    "colab": {
     "base_uri": "https://localhost:8080/"
    },
    "id": "8nYnL3k5fMlL",
    "outputId": "b6f0b7a9-f417-434e-b14e-c936965a9592"
   },
   "outputs": [
    {
     "name": "stdout",
     "output_type": "stream",
     "text": [
      "Number of stop words: 326\n",
      "First ten stop words: ['‘ll', 'noone', 'latterly', 'be', 'nevertheless', 'to', 'without', 'but', 'anything', 'myself']\n"
     ]
    }
   ],
   "source": [
    "spacy_stopwords = spacy.lang.en.stop_words.STOP_WORDS\n",
    "print('Number of stop words: %d' % len(spacy_stopwords))\n",
    "print('First ten stop words: %s' % list(spacy_stopwords)[:10])"
   ]
  },
  {
   "cell_type": "code",
   "execution_count": 10,
   "metadata": {
    "id": "xyBbkJjWZGY5"
   },
   "outputs": [],
   "source": [
    "nlp = spacy.load('en_core_web_lg')\n",
    "nlp.pipe_names\n",
    "punctuations = string.punctuation\n",
    "\n",
    "def cleanup_nlp_text(docs, logging=False):\n",
    "  texts = []\n",
    "  counter = 1\n",
    "  for doc in docs:\n",
    "    if counter % 10000 == 0 and logging:\n",
    "      print(\"%d out of %d\" % (counter, len(docs)))\n",
    "    counter += 1\n",
    "    doc = nlp(doc, disable=['parser', 'ner'])\n",
    "    tokens = [tok.lemma_.lower().strip() for tok in doc if tok.lemma_ != '-PRON-']\n",
    "    tokens = [tok for tok in tokens if tok not in spacy_stopwords and tok not in punctuations]\n",
    "    tokens = ' '.join(tokens)\n",
    "    texts.append(tokens)\n",
    "  return pd.Series(texts)"
   ]
  },
  {
   "cell_type": "markdown",
   "metadata": {},
   "source": [
    "## Apply SpaCy cleanup_nlp_text to the 'Clean' dataset from Pass #1"
   ]
  },
  {
   "cell_type": "code",
   "execution_count": 11,
   "metadata": {
    "colab": {
     "base_uri": "https://localhost:8080/"
    },
    "id": "akKamI5zlkM3",
    "outputId": "5bbef961-810e-4dcd-9df1-c80d061309d4"
   },
   "outputs": [
    {
     "name": "stdout",
     "output_type": "stream",
     "text": [
      "10000 out of 38000\n",
      "20000 out of 38000\n",
      "30000 out of 38000\n"
     ]
    }
   ],
   "source": [
    "yelp_test_df['Text'] = cleanup_nlp_text(yelp_test_df['Clean'], True)"
   ]
  },
  {
   "cell_type": "code",
   "execution_count": 12,
   "metadata": {
    "colab": {
     "base_uri": "https://localhost:8080/"
    },
    "id": "-UwCo0ZRkXQf",
    "outputId": "9787567e-15da-4152-907d-bbea2c51f55a"
   },
   "outputs": [
    {
     "name": "stdout",
     "output_type": "stream",
     "text": [
      "10000 out of 560000\n",
      "20000 out of 560000\n",
      "30000 out of 560000\n",
      "40000 out of 560000\n",
      "50000 out of 560000\n",
      "60000 out of 560000\n",
      "70000 out of 560000\n",
      "80000 out of 560000\n",
      "90000 out of 560000\n",
      "100000 out of 560000\n",
      "110000 out of 560000\n",
      "120000 out of 560000\n",
      "130000 out of 560000\n",
      "140000 out of 560000\n",
      "150000 out of 560000\n",
      "160000 out of 560000\n",
      "170000 out of 560000\n",
      "180000 out of 560000\n",
      "190000 out of 560000\n",
      "200000 out of 560000\n",
      "210000 out of 560000\n",
      "220000 out of 560000\n",
      "230000 out of 560000\n",
      "240000 out of 560000\n",
      "250000 out of 560000\n",
      "260000 out of 560000\n",
      "270000 out of 560000\n",
      "280000 out of 560000\n",
      "290000 out of 560000\n",
      "300000 out of 560000\n",
      "310000 out of 560000\n",
      "320000 out of 560000\n",
      "330000 out of 560000\n",
      "340000 out of 560000\n",
      "350000 out of 560000\n",
      "360000 out of 560000\n",
      "370000 out of 560000\n",
      "380000 out of 560000\n",
      "390000 out of 560000\n",
      "400000 out of 560000\n",
      "410000 out of 560000\n",
      "420000 out of 560000\n",
      "430000 out of 560000\n",
      "440000 out of 560000\n",
      "450000 out of 560000\n",
      "460000 out of 560000\n",
      "470000 out of 560000\n",
      "480000 out of 560000\n",
      "490000 out of 560000\n",
      "500000 out of 560000\n",
      "510000 out of 560000\n",
      "520000 out of 560000\n",
      "530000 out of 560000\n",
      "540000 out of 560000\n",
      "550000 out of 560000\n",
      "560000 out of 560000\n"
     ]
    }
   ],
   "source": [
    "yelp_train_df['Text'] = cleanup_nlp_text(yelp_train_df['Clean'], True)\n"
   ]
  },
  {
   "cell_type": "markdown",
   "metadata": {},
   "source": [
    "## Drop any rows with missing values, readjust polarity scores to either 0 (negative) or 1 (positive)"
   ]
  },
  {
   "cell_type": "code",
   "execution_count": 13,
   "metadata": {
    "id": "quVzyiXylI59"
   },
   "outputs": [],
   "source": [
    "yelp_test_df = yelp_test_df[['Text', 'Score']].dropna()\n",
    "yelp_train_df = yelp_train_df[['Text', 'Score']].dropna()\n",
    "\n",
    "yelp_train_df.loc[yelp_train_df.Score <= 1, \"Score\"] = 0\n",
    "yelp_train_df.loc[yelp_train_df.Score >= 2, \"Score\"] = 1\n",
    "yelp_test_df.loc[yelp_test_df.Score <= 1, \"Score\"] = 0\n",
    "yelp_test_df.loc[yelp_test_df.Score >= 2, \"Score\"] = 1"
   ]
  },
  {
   "cell_type": "markdown",
   "metadata": {},
   "source": [
    "## Save our dataframes back to csv for later notebooks"
   ]
  },
  {
   "cell_type": "code",
   "execution_count": 14,
   "metadata": {
    "id": "k7uT4TuBX4tb"
   },
   "outputs": [],
   "source": [
    "yelp_test_df.to_csv('yelp_test_df.csv', encoding='utf-8')\n",
    "yelp_train_df.to_csv('yelp_train_df.csv', encoding='utf-8')"
   ]
  },
  {
   "cell_type": "markdown",
   "metadata": {},
   "source": [
    "Let's also take a look and verify we have indeed saved cleaned up data"
   ]
  },
  {
   "cell_type": "code",
   "execution_count": 15,
   "metadata": {
    "id": "-ZOGJie-nkNz"
   },
   "outputs": [
    {
     "data": {
      "text/html": [
       "<div>\n",
       "<style scoped>\n",
       "    .dataframe tbody tr th:only-of-type {\n",
       "        vertical-align: middle;\n",
       "    }\n",
       "\n",
       "    .dataframe tbody tr th {\n",
       "        vertical-align: top;\n",
       "    }\n",
       "\n",
       "    .dataframe thead th {\n",
       "        text-align: right;\n",
       "    }\n",
       "</style>\n",
       "<table border=\"1\" class=\"dataframe\">\n",
       "  <thead>\n",
       "    <tr style=\"text-align: right;\">\n",
       "      <th></th>\n",
       "      <th>Text</th>\n",
       "      <th>Score</th>\n",
       "    </tr>\n",
       "  </thead>\n",
       "  <tbody>\n",
       "    <tr>\n",
       "      <th>0</th>\n",
       "      <td>unfortunately frustration dr. goldberg patient...</td>\n",
       "      <td>0</td>\n",
       "    </tr>\n",
       "    <tr>\n",
       "      <th>1</th>\n",
       "      <td>dr. goldberg 10 year think 1st patient start m...</td>\n",
       "      <td>1</td>\n",
       "    </tr>\n",
       "    <tr>\n",
       "      <th>2</th>\n",
       "      <td>know dr. goldberg like arizona let tell stay a...</td>\n",
       "      <td>0</td>\n",
       "    </tr>\n",
       "    <tr>\n",
       "      <th>3</th>\n",
       "      <td>write review head doctor office staff administ...</td>\n",
       "      <td>0</td>\n",
       "    </tr>\n",
       "    <tr>\n",
       "      <th>4</th>\n",
       "      <td>food great good thing wing wing simply fantast...</td>\n",
       "      <td>1</td>\n",
       "    </tr>\n",
       "  </tbody>\n",
       "</table>\n",
       "</div>"
      ],
      "text/plain": [
       "                                                Text  Score\n",
       "0  unfortunately frustration dr. goldberg patient...      0\n",
       "1  dr. goldberg 10 year think 1st patient start m...      1\n",
       "2  know dr. goldberg like arizona let tell stay a...      0\n",
       "3  write review head doctor office staff administ...      0\n",
       "4  food great good thing wing wing simply fantast...      1"
      ]
     },
     "execution_count": 15,
     "metadata": {},
     "output_type": "execute_result"
    }
   ],
   "source": [
    "yelp_reviews_df = yelp_train_df\n",
    "yelp_train_df.head()"
   ]
  },
  {
   "cell_type": "code",
   "execution_count": 16,
   "metadata": {
    "colab": {
     "base_uri": "https://localhost:8080/"
    },
    "id": "UC65oWLY-URE",
    "outputId": "12315d34-a26f-41db-c4b3-903cc0c49602"
   },
   "outputs": [
    {
     "name": "stdout",
     "output_type": "stream",
     "text": [
      "01-clean-data.ipynb\t\t      evaluate\n",
      "02-prepare-spacy-docs.ipynb\t      models\n",
      "03-build-model-basic.ipynb\t      README.md\n",
      "04-build-model-TextCatBOW.ipynb       scratch-testing.ipynb\n",
      "05-build-model-TextCatCNN.ipynb       yelp_review_polarity_csv\n",
      "06-build-model-TextCatEnsemble.ipynb  yelp_review_polarity_csv.tgz\n",
      "07-evaluate-review.ipynb\t      yelp_test_df.csv\n",
      "config\t\t\t\t      yelp_train_df.csv\n",
      "data\n"
     ]
    }
   ],
   "source": [
    "!ls"
   ]
  },
  {
   "cell_type": "code",
   "execution_count": 17,
   "metadata": {
    "colab": {
     "base_uri": "https://localhost:8080/",
     "height": 262
    },
    "id": "6lVafuS9UY9D",
    "outputId": "6af33b3b-6931-4a82-b309-0839b8973aee"
   },
   "outputs": [
    {
     "data": {
      "image/png": "[encoded data removed]",
      "text/plain": [
       "<Figure size 432x288 with 1 Axes>"
      ]
     },
     "metadata": {
      "needs_background": "light"
     },
     "output_type": "display_data"
    }
   ],
   "source": [
    "ax=yelp_reviews_df.Score.value_counts().plot(kind='bar')\n",
    "fig = ax.get_figure()"
   ]
  },
  {
   "cell_type": "code",
   "execution_count": 18,
   "metadata": {
    "colab": {
     "base_uri": "https://localhost:8080/",
     "height": 204
    },
    "id": "8LCgHZhPWCj6",
    "outputId": "4d190c0c-a281-4dc6-801b-fb0041b128c4"
   },
   "outputs": [
    {
     "data": {
      "text/html": [
       "<div>\n",
       "<style scoped>\n",
       "    .dataframe tbody tr th:only-of-type {\n",
       "        vertical-align: middle;\n",
       "    }\n",
       "\n",
       "    .dataframe tbody tr th {\n",
       "        vertical-align: top;\n",
       "    }\n",
       "\n",
       "    .dataframe thead th {\n",
       "        text-align: right;\n",
       "    }\n",
       "</style>\n",
       "<table border=\"1\" class=\"dataframe\">\n",
       "  <thead>\n",
       "    <tr style=\"text-align: right;\">\n",
       "      <th></th>\n",
       "      <th>Text</th>\n",
       "      <th>Score</th>\n",
       "    </tr>\n",
       "  </thead>\n",
       "  <tbody>\n",
       "    <tr>\n",
       "      <th>0</th>\n",
       "      <td>unfortunately frustration dr. goldberg patient...</td>\n",
       "      <td>0</td>\n",
       "    </tr>\n",
       "    <tr>\n",
       "      <th>1</th>\n",
       "      <td>dr. goldberg 10 year think 1st patient start m...</td>\n",
       "      <td>1</td>\n",
       "    </tr>\n",
       "    <tr>\n",
       "      <th>2</th>\n",
       "      <td>know dr. goldberg like arizona let tell stay a...</td>\n",
       "      <td>0</td>\n",
       "    </tr>\n",
       "    <tr>\n",
       "      <th>3</th>\n",
       "      <td>write review head doctor office staff administ...</td>\n",
       "      <td>0</td>\n",
       "    </tr>\n",
       "    <tr>\n",
       "      <th>4</th>\n",
       "      <td>food great good thing wing wing simply fantast...</td>\n",
       "      <td>1</td>\n",
       "    </tr>\n",
       "  </tbody>\n",
       "</table>\n",
       "</div>"
      ],
      "text/plain": [
       "                                                Text  Score\n",
       "0  unfortunately frustration dr. goldberg patient...      0\n",
       "1  dr. goldberg 10 year think 1st patient start m...      1\n",
       "2  know dr. goldberg like arizona let tell stay a...      0\n",
       "3  write review head doctor office staff administ...      0\n",
       "4  food great good thing wing wing simply fantast...      1"
      ]
     },
     "execution_count": 18,
     "metadata": {},
     "output_type": "execute_result"
    }
   ],
   "source": [
    "yelp_reviews_df.head()"
   ]
  },
  {
   "cell_type": "markdown",
   "metadata": {},
   "source": [
    "## More verification and preprocessing\n",
    "\n",
    "- Taken from Sessions 1-3 from [yasheshshroff-labs-notebooks](https://github.com/yasheshshroff/NLPworkshop/tree/main/labs)"
   ]
  },
  {
   "cell_type": "code",
   "execution_count": 19,
   "metadata": {
    "colab": {
     "base_uri": "https://localhost:8080/"
    },
    "id": "kaotIGsAYwjU",
    "outputId": "36a24535-6f83-4719-d795-828e5196e0e6"
   },
   "outputs": [
    {
     "data": {
      "text/plain": [
       "(250000, 2)"
      ]
     },
     "execution_count": 19,
     "metadata": {},
     "output_type": "execute_result"
    }
   ],
   "source": [
    "train_pos_df=yelp_reviews_df[yelp_reviews_df.Score==1][:125000]\n",
    "train_neg_df=yelp_reviews_df[yelp_reviews_df.Score==0][:125000]\n",
    "\n",
    "train_df=train_pos_df.append(train_neg_df)\n",
    "train_df.shape"
   ]
  },
  {
   "cell_type": "markdown",
   "metadata": {
    "id": "pHKdHKVKZDBk"
   },
   "source": [
    "Let's parse a review and go thru the SpaCy exercises to verify any future processing will be ok"
   ]
  },
  {
   "cell_type": "code",
   "execution_count": 20,
   "metadata": {
    "colab": {
     "base_uri": "https://localhost:8080/",
     "height": 105
    },
    "id": "Tn7vf06dZk2q",
    "outputId": "f37fd332-19ed-4b55-d833-d213b114d4e6"
   },
   "outputs": [
    {
     "data": {
      "text/plain": [
       "\"okay hopefully enjoy happy hour riley pour house read able follow lilting irish owner recap murphy pour house 1979 1985 sullivan pour house 1995 2002 paddy pour house 2002 2012 bagpipe riley pour house open march 1 2012 tiny long bar like old irish pub smoking allow hurrah lousy service guess entire place need strike .... demand automate food beverage ticketing system cook bartender waitress know order ticket belong table actually pretty funny hungry b thirsty want place need irish pub local old time watering hole murphy ... er mean sullivan's .... er mean paddy riley case cold guinness irish music fun patron\""
      ]
     },
     "execution_count": 20,
     "metadata": {},
     "output_type": "execute_result"
    }
   ],
   "source": [
    "sample_review = yelp_reviews_df.Text[40]\n",
    "sample_review"
   ]
  },
  {
   "cell_type": "code",
   "execution_count": 21,
   "metadata": {
    "colab": {
     "base_uri": "https://localhost:8080/",
     "height": 37
    },
    "id": "HVx8DpzZ72DG",
    "outputId": "07d3ebcf-7a25-4361-92b6-b203850b4911"
   },
   "outputs": [
    {
     "data": {
      "text/plain": [
       "'starbucks teeny tiny seating inside limited starbucks grab continue shopping waterfront barista friendly fast'"
      ]
     },
     "execution_count": 21,
     "metadata": {},
     "output_type": "execute_result"
    }
   ],
   "source": [
    "sample_review = yelp_reviews_df.Text[90]\n",
    "sample_review"
   ]
  },
  {
   "cell_type": "code",
   "execution_count": 22,
   "metadata": {
    "colab": {
     "base_uri": "https://localhost:8080/",
     "height": 71
    },
    "id": "5MuEPIlKZqaB",
    "outputId": "ca5cfb64-1b08-4fc7-8bab-dc8ae18b1d2e"
   },
   "outputs": [
    {
     "data": {
      "text/plain": [
       "'Companies, agencies, institutions, etc.'"
      ]
     },
     "execution_count": 22,
     "metadata": {},
     "output_type": "execute_result"
    }
   ],
   "source": [
    "parsed_review = nlp(sample_review)\n",
    "parsed_review\n",
    "\n",
    "for ent in parsed_review.ents:\n",
    "  print(ent.text, ent.label_, ent.doc)\n",
    "\n",
    "spacy.explain('ORG')"
   ]
  },
  {
   "cell_type": "code",
   "execution_count": 23,
   "metadata": {
    "colab": {
     "base_uri": "https://localhost:8080/",
     "height": 421
    },
    "id": "1iF64g2-Z3u2",
    "outputId": "2df07e88-4b1c-4013-966e-c44976ca4f43"
   },
   "outputs": [
    {
     "data": {
      "text/html": [
       "<div>\n",
       "<style scoped>\n",
       "    .dataframe tbody tr th:only-of-type {\n",
       "        vertical-align: middle;\n",
       "    }\n",
       "\n",
       "    .dataframe tbody tr th {\n",
       "        vertical-align: top;\n",
       "    }\n",
       "\n",
       "    .dataframe thead th {\n",
       "        text-align: right;\n",
       "    }\n",
       "</style>\n",
       "<table border=\"1\" class=\"dataframe\">\n",
       "  <thead>\n",
       "    <tr style=\"text-align: right;\">\n",
       "      <th></th>\n",
       "      <th>text</th>\n",
       "      <th>lemma</th>\n",
       "      <th>pos</th>\n",
       "      <th>tag</th>\n",
       "      <th>dep</th>\n",
       "      <th>shape</th>\n",
       "      <th>is_alpha</th>\n",
       "      <th>is_stop</th>\n",
       "      <th>is_punctuation</th>\n",
       "      <th>ent_id</th>\n",
       "    </tr>\n",
       "  </thead>\n",
       "  <tbody>\n",
       "    <tr>\n",
       "      <th>0</th>\n",
       "      <td>starbucks</td>\n",
       "      <td>starbucks</td>\n",
       "      <td>NOUN</td>\n",
       "      <td>NN</td>\n",
       "      <td>npadvmod</td>\n",
       "      <td>xxxx</td>\n",
       "      <td>True</td>\n",
       "      <td>False</td>\n",
       "      <td>False</td>\n",
       "      <td>0.0</td>\n",
       "    </tr>\n",
       "    <tr>\n",
       "      <th>1</th>\n",
       "      <td>teeny</td>\n",
       "      <td>teeny</td>\n",
       "      <td>VERB</td>\n",
       "      <td>VBP</td>\n",
       "      <td>ROOT</td>\n",
       "      <td>xxxx</td>\n",
       "      <td>True</td>\n",
       "      <td>False</td>\n",
       "      <td>False</td>\n",
       "      <td>0.0</td>\n",
       "    </tr>\n",
       "    <tr>\n",
       "      <th>2</th>\n",
       "      <td>tiny</td>\n",
       "      <td>tiny</td>\n",
       "      <td>ADJ</td>\n",
       "      <td>JJ</td>\n",
       "      <td>amod</td>\n",
       "      <td>xxxx</td>\n",
       "      <td>True</td>\n",
       "      <td>False</td>\n",
       "      <td>False</td>\n",
       "      <td>0.0</td>\n",
       "    </tr>\n",
       "    <tr>\n",
       "      <th>3</th>\n",
       "      <td>seating</td>\n",
       "      <td>seating</td>\n",
       "      <td>NOUN</td>\n",
       "      <td>NN</td>\n",
       "      <td>dobj</td>\n",
       "      <td>xxxx</td>\n",
       "      <td>True</td>\n",
       "      <td>False</td>\n",
       "      <td>False</td>\n",
       "      <td>0.0</td>\n",
       "    </tr>\n",
       "    <tr>\n",
       "      <th>4</th>\n",
       "      <td>inside</td>\n",
       "      <td>inside</td>\n",
       "      <td>ADP</td>\n",
       "      <td>IN</td>\n",
       "      <td>prep</td>\n",
       "      <td>xxxx</td>\n",
       "      <td>True</td>\n",
       "      <td>False</td>\n",
       "      <td>False</td>\n",
       "      <td>0.0</td>\n",
       "    </tr>\n",
       "    <tr>\n",
       "      <th>5</th>\n",
       "      <td>limited</td>\n",
       "      <td>limited</td>\n",
       "      <td>ADJ</td>\n",
       "      <td>JJ</td>\n",
       "      <td>amod</td>\n",
       "      <td>xxxx</td>\n",
       "      <td>True</td>\n",
       "      <td>False</td>\n",
       "      <td>False</td>\n",
       "      <td>0.0</td>\n",
       "    </tr>\n",
       "    <tr>\n",
       "      <th>6</th>\n",
       "      <td>starbucks</td>\n",
       "      <td>starbucks</td>\n",
       "      <td>NOUN</td>\n",
       "      <td>NN</td>\n",
       "      <td>compound</td>\n",
       "      <td>xxxx</td>\n",
       "      <td>True</td>\n",
       "      <td>False</td>\n",
       "      <td>False</td>\n",
       "      <td>0.0</td>\n",
       "    </tr>\n",
       "    <tr>\n",
       "      <th>7</th>\n",
       "      <td>grab</td>\n",
       "      <td>grab</td>\n",
       "      <td>NOUN</td>\n",
       "      <td>NN</td>\n",
       "      <td>pobj</td>\n",
       "      <td>xxxx</td>\n",
       "      <td>True</td>\n",
       "      <td>False</td>\n",
       "      <td>False</td>\n",
       "      <td>0.0</td>\n",
       "    </tr>\n",
       "    <tr>\n",
       "      <th>8</th>\n",
       "      <td>continue</td>\n",
       "      <td>continue</td>\n",
       "      <td>VERB</td>\n",
       "      <td>VB</td>\n",
       "      <td>conj</td>\n",
       "      <td>xxxx</td>\n",
       "      <td>True</td>\n",
       "      <td>False</td>\n",
       "      <td>False</td>\n",
       "      <td>0.0</td>\n",
       "    </tr>\n",
       "    <tr>\n",
       "      <th>9</th>\n",
       "      <td>shopping</td>\n",
       "      <td>shop</td>\n",
       "      <td>VERB</td>\n",
       "      <td>VBG</td>\n",
       "      <td>xcomp</td>\n",
       "      <td>xxxx</td>\n",
       "      <td>True</td>\n",
       "      <td>False</td>\n",
       "      <td>False</td>\n",
       "      <td>0.0</td>\n",
       "    </tr>\n",
       "    <tr>\n",
       "      <th>10</th>\n",
       "      <td>waterfront</td>\n",
       "      <td>waterfront</td>\n",
       "      <td>NOUN</td>\n",
       "      <td>NN</td>\n",
       "      <td>compound</td>\n",
       "      <td>xxxx</td>\n",
       "      <td>True</td>\n",
       "      <td>False</td>\n",
       "      <td>False</td>\n",
       "      <td>0.0</td>\n",
       "    </tr>\n",
       "    <tr>\n",
       "      <th>11</th>\n",
       "      <td>barista</td>\n",
       "      <td>barista</td>\n",
       "      <td>NOUN</td>\n",
       "      <td>NN</td>\n",
       "      <td>npadvmod</td>\n",
       "      <td>xxxx</td>\n",
       "      <td>True</td>\n",
       "      <td>False</td>\n",
       "      <td>False</td>\n",
       "      <td>0.0</td>\n",
       "    </tr>\n",
       "    <tr>\n",
       "      <th>12</th>\n",
       "      <td>friendly</td>\n",
       "      <td>friendly</td>\n",
       "      <td>ADJ</td>\n",
       "      <td>JJ</td>\n",
       "      <td>dobj</td>\n",
       "      <td>xxxx</td>\n",
       "      <td>True</td>\n",
       "      <td>False</td>\n",
       "      <td>False</td>\n",
       "      <td>0.0</td>\n",
       "    </tr>\n",
       "    <tr>\n",
       "      <th>13</th>\n",
       "      <td>fast</td>\n",
       "      <td>fast</td>\n",
       "      <td>ADV</td>\n",
       "      <td>RB</td>\n",
       "      <td>advmod</td>\n",
       "      <td>xxxx</td>\n",
       "      <td>True</td>\n",
       "      <td>False</td>\n",
       "      <td>False</td>\n",
       "      <td>0.0</td>\n",
       "    </tr>\n",
       "  </tbody>\n",
       "</table>\n",
       "</div>"
      ],
      "text/plain": [
       "          text       lemma   pos  tag       dep shape is_alpha is_stop  \\\n",
       "0    starbucks   starbucks  NOUN   NN  npadvmod  xxxx     True   False   \n",
       "1        teeny       teeny  VERB  VBP      ROOT  xxxx     True   False   \n",
       "2         tiny        tiny   ADJ   JJ      amod  xxxx     True   False   \n",
       "3      seating     seating  NOUN   NN      dobj  xxxx     True   False   \n",
       "4       inside      inside   ADP   IN      prep  xxxx     True   False   \n",
       "5      limited     limited   ADJ   JJ      amod  xxxx     True   False   \n",
       "6    starbucks   starbucks  NOUN   NN  compound  xxxx     True   False   \n",
       "7         grab        grab  NOUN   NN      pobj  xxxx     True   False   \n",
       "8     continue    continue  VERB   VB      conj  xxxx     True   False   \n",
       "9     shopping        shop  VERB  VBG     xcomp  xxxx     True   False   \n",
       "10  waterfront  waterfront  NOUN   NN  compound  xxxx     True   False   \n",
       "11     barista     barista  NOUN   NN  npadvmod  xxxx     True   False   \n",
       "12    friendly    friendly   ADJ   JJ      dobj  xxxx     True   False   \n",
       "13        fast        fast   ADV   RB    advmod  xxxx     True   False   \n",
       "\n",
       "   is_punctuation  ent_id  \n",
       "0           False     0.0  \n",
       "1           False     0.0  \n",
       "2           False     0.0  \n",
       "3           False     0.0  \n",
       "4           False     0.0  \n",
       "5           False     0.0  \n",
       "6           False     0.0  \n",
       "7           False     0.0  \n",
       "8           False     0.0  \n",
       "9           False     0.0  \n",
       "10          False     0.0  \n",
       "11          False     0.0  \n",
       "12          False     0.0  \n",
       "13          False     0.0  "
      ]
     },
     "execution_count": 23,
     "metadata": {},
     "output_type": "execute_result"
    }
   ],
   "source": [
    "tokenized_text = pd.DataFrame()\n",
    "\n",
    "for i, token in enumerate(parsed_review):\n",
    "    tokenized_text.loc[i, 'text'] = token.text\n",
    "    tokenized_text.loc[i, 'lemma'] = token.lemma_,\n",
    "    tokenized_text.loc[i, 'pos'] = token.pos_\n",
    "    tokenized_text.loc[i, 'tag'] = token.tag_\n",
    "    tokenized_text.loc[i, 'dep'] = token.dep_\n",
    "    tokenized_text.loc[i, 'shape'] = token.shape_\n",
    "    tokenized_text.loc[i, 'is_alpha'] = token.is_alpha\n",
    "    tokenized_text.loc[i, 'is_stop'] = token.is_stop\n",
    "    tokenized_text.loc[i, 'is_punctuation'] = token.is_punct\n",
    "    tokenized_text.loc[i, 'ent_id'] = token.ent_id\n",
    "\n",
    "tokenized_text[:20]"
   ]
  },
  {
   "cell_type": "code",
   "execution_count": 24,
   "metadata": {
    "colab": {
     "base_uri": "https://localhost:8080/",
     "height": 52
    },
    "id": "chQEJqPzaFoU",
    "outputId": "c3471f02-91b6-4bf1-f66b-7ccdc7287ab7"
   },
   "outputs": [
    {
     "name": "stderr",
     "output_type": "stream",
     "text": [
      "/home/garza/.local/lib/python3.7/site-packages/spacy/displacy/__init__.py:189: UserWarning: [W006] No entities to visualize found in Doc object. If this is surprising to you, make sure the Doc was processed using a model that supports named entity recognition, and check the `doc.ents` property manually if necessary.\n",
      "  warnings.warn(Warnings.W006)\n"
     ]
    },
    {
     "data": {
      "text/html": [
       "<span class=\"tex2jax_ignore\"><div class=\"entities\" style=\"line-height: 2.5; direction: ltr\">starbucks teeny tiny seating inside limited starbucks grab continue shopping waterfront barista friendly fast</div></span>"
      ],
      "text/plain": [
       "<IPython.core.display.HTML object>"
      ]
     },
     "metadata": {},
     "output_type": "display_data"
    }
   ],
   "source": [
    "from spacy import displacy\n",
    "\n",
    "displacy.render(parsed_review, style='ent', jupyter=True)"
   ]
  },
  {
   "cell_type": "markdown",
   "metadata": {
    "id": "q4qCajXYAd_J"
   },
   "source": [
    "Dependency parsing\n",
    "Identifies sentences, assigning a syntactic structure to it (subject-object)"
   ]
  },
  {
   "cell_type": "code",
   "execution_count": 25,
   "metadata": {
    "colab": {
     "base_uri": "https://localhost:8080/"
    },
    "id": "PcImTXWeAJYM",
    "outputId": "1e593fb0-cc94-4fe5-95f6-417be2064789"
   },
   "outputs": [
    {
     "data": {
      "text/plain": [
       "[starbucks teeny tiny seating inside limited starbucks grab continue shopping waterfront barista friendly fast]"
      ]
     },
     "execution_count": 25,
     "metadata": {},
     "output_type": "execute_result"
    }
   ],
   "source": [
    "sentence_spans = list(parsed_review.sents)\n",
    "sentence_spans"
   ]
  },
  {
   "cell_type": "code",
   "execution_count": 26,
   "metadata": {
    "colab": {
     "base_uri": "https://localhost:8080/",
     "height": 318
    },
    "id": "ON8JlEndAk0e",
    "outputId": "8434bd37-fa3d-43ae-98d0-98f29034a721"
   },
   "outputs": [
    {
     "data": {
      "text/html": [
       "<span class=\"tex2jax_ignore\"><svg xmlns=\"http://www.w3.org/2000/svg\" xmlns:xlink=\"http://www.w3.org/1999/xlink\" xml:lang=\"en\" id=\"c9e31ed296d9461c899255c1698a9e2c-0\" class=\"displacy\" width=\"1170\" height=\"337.0\" direction=\"ltr\" style=\"max-width: none; height: 337.0px; color: green; background: white; font-family: Arial; direction: ltr\">\n",
       "<text class=\"displacy-token\" fill=\"currentColor\" text-anchor=\"middle\" y=\"247.0\">\n",
       "    <tspan class=\"displacy-word\" fill=\"currentColor\" x=\"50\">starbucks</tspan>\n",
       "    <tspan class=\"displacy-tag\" dy=\"2em\" fill=\"currentColor\" x=\"50\">NOUN</tspan>\n",
       "</text>\n",
       "\n",
       "<text class=\"displacy-token\" fill=\"currentColor\" text-anchor=\"middle\" y=\"247.0\">\n",
       "    <tspan class=\"displacy-word\" fill=\"currentColor\" x=\"130\">teeny</tspan>\n",
       "    <tspan class=\"displacy-tag\" dy=\"2em\" fill=\"currentColor\" x=\"130\">VERB</tspan>\n",
       "</text>\n",
       "\n",
       "<text class=\"displacy-token\" fill=\"currentColor\" text-anchor=\"middle\" y=\"247.0\">\n",
       "    <tspan class=\"displacy-word\" fill=\"currentColor\" x=\"210\">tiny</tspan>\n",
       "    <tspan class=\"displacy-tag\" dy=\"2em\" fill=\"currentColor\" x=\"210\">ADJ</tspan>\n",
       "</text>\n",
       "\n",
       "<text class=\"displacy-token\" fill=\"currentColor\" text-anchor=\"middle\" y=\"247.0\">\n",
       "    <tspan class=\"displacy-word\" fill=\"currentColor\" x=\"290\">seating</tspan>\n",
       "    <tspan class=\"displacy-tag\" dy=\"2em\" fill=\"currentColor\" x=\"290\">NOUN</tspan>\n",
       "</text>\n",
       "\n",
       "<text class=\"displacy-token\" fill=\"currentColor\" text-anchor=\"middle\" y=\"247.0\">\n",
       "    <tspan class=\"displacy-word\" fill=\"currentColor\" x=\"370\">inside</tspan>\n",
       "    <tspan class=\"displacy-tag\" dy=\"2em\" fill=\"currentColor\" x=\"370\">ADP</tspan>\n",
       "</text>\n",
       "\n",
       "<text class=\"displacy-token\" fill=\"currentColor\" text-anchor=\"middle\" y=\"247.0\">\n",
       "    <tspan class=\"displacy-word\" fill=\"currentColor\" x=\"450\">limited</tspan>\n",
       "    <tspan class=\"displacy-tag\" dy=\"2em\" fill=\"currentColor\" x=\"450\">ADJ</tspan>\n",
       "</text>\n",
       "\n",
       "<text class=\"displacy-token\" fill=\"currentColor\" text-anchor=\"middle\" y=\"247.0\">\n",
       "    <tspan class=\"displacy-word\" fill=\"currentColor\" x=\"530\">starbucks</tspan>\n",
       "    <tspan class=\"displacy-tag\" dy=\"2em\" fill=\"currentColor\" x=\"530\">NOUN</tspan>\n",
       "</text>\n",
       "\n",
       "<text class=\"displacy-token\" fill=\"currentColor\" text-anchor=\"middle\" y=\"247.0\">\n",
       "    <tspan class=\"displacy-word\" fill=\"currentColor\" x=\"610\">grab</tspan>\n",
       "    <tspan class=\"displacy-tag\" dy=\"2em\" fill=\"currentColor\" x=\"610\">NOUN</tspan>\n",
       "</text>\n",
       "\n",
       "<text class=\"displacy-token\" fill=\"currentColor\" text-anchor=\"middle\" y=\"247.0\">\n",
       "    <tspan class=\"displacy-word\" fill=\"currentColor\" x=\"690\">continue</tspan>\n",
       "    <tspan class=\"displacy-tag\" dy=\"2em\" fill=\"currentColor\" x=\"690\">VERB</tspan>\n",
       "</text>\n",
       "\n",
       "<text class=\"displacy-token\" fill=\"currentColor\" text-anchor=\"middle\" y=\"247.0\">\n",
       "    <tspan class=\"displacy-word\" fill=\"currentColor\" x=\"770\">shopping</tspan>\n",
       "    <tspan class=\"displacy-tag\" dy=\"2em\" fill=\"currentColor\" x=\"770\">VERB</tspan>\n",
       "</text>\n",
       "\n",
       "<text class=\"displacy-token\" fill=\"currentColor\" text-anchor=\"middle\" y=\"247.0\">\n",
       "    <tspan class=\"displacy-word\" fill=\"currentColor\" x=\"850\">waterfront</tspan>\n",
       "    <tspan class=\"displacy-tag\" dy=\"2em\" fill=\"currentColor\" x=\"850\">NOUN</tspan>\n",
       "</text>\n",
       "\n",
       "<text class=\"displacy-token\" fill=\"currentColor\" text-anchor=\"middle\" y=\"247.0\">\n",
       "    <tspan class=\"displacy-word\" fill=\"currentColor\" x=\"930\">barista</tspan>\n",
       "    <tspan class=\"displacy-tag\" dy=\"2em\" fill=\"currentColor\" x=\"930\">NOUN</tspan>\n",
       "</text>\n",
       "\n",
       "<text class=\"displacy-token\" fill=\"currentColor\" text-anchor=\"middle\" y=\"247.0\">\n",
       "    <tspan class=\"displacy-word\" fill=\"currentColor\" x=\"1010\">friendly</tspan>\n",
       "    <tspan class=\"displacy-tag\" dy=\"2em\" fill=\"currentColor\" x=\"1010\">ADJ</tspan>\n",
       "</text>\n",
       "\n",
       "<text class=\"displacy-token\" fill=\"currentColor\" text-anchor=\"middle\" y=\"247.0\">\n",
       "    <tspan class=\"displacy-word\" fill=\"currentColor\" x=\"1090\">fast</tspan>\n",
       "    <tspan class=\"displacy-tag\" dy=\"2em\" fill=\"currentColor\" x=\"1090\">ADV</tspan>\n",
       "</text>\n",
       "\n",
       "<g class=\"displacy-arrow\">\n",
       "    <path class=\"displacy-arc\" id=\"arrow-c9e31ed296d9461c899255c1698a9e2c-0-0\" stroke-width=\"2px\" d=\"M62,202.0 62,188.66666666666666 118.0,188.66666666666666 118.0,202.0\" fill=\"none\" stroke=\"currentColor\"/>\n",
       "    <text dy=\"1.25em\" style=\"font-size: 0.8em; letter-spacing: 1px\">\n",
       "        <textPath xlink:href=\"#arrow-c9e31ed296d9461c899255c1698a9e2c-0-0\" class=\"displacy-label\" startOffset=\"50%\" side=\"left\" fill=\"currentColor\" text-anchor=\"middle\">npadvmod</textPath>\n",
       "    </text>\n",
       "    <path class=\"displacy-arrowhead\" d=\"M62,204.0 L58,196.0 66,196.0\" fill=\"currentColor\"/>\n",
       "</g>\n",
       "\n",
       "<g class=\"displacy-arrow\">\n",
       "    <path class=\"displacy-arc\" id=\"arrow-c9e31ed296d9461c899255c1698a9e2c-0-1\" stroke-width=\"2px\" d=\"M222,202.0 222,188.66666666666666 278.0,188.66666666666666 278.0,202.0\" fill=\"none\" stroke=\"currentColor\"/>\n",
       "    <text dy=\"1.25em\" style=\"font-size: 0.8em; letter-spacing: 1px\">\n",
       "        <textPath xlink:href=\"#arrow-c9e31ed296d9461c899255c1698a9e2c-0-1\" class=\"displacy-label\" startOffset=\"50%\" side=\"left\" fill=\"currentColor\" text-anchor=\"middle\">amod</textPath>\n",
       "    </text>\n",
       "    <path class=\"displacy-arrowhead\" d=\"M222,204.0 L218,196.0 226,196.0\" fill=\"currentColor\"/>\n",
       "</g>\n",
       "\n",
       "<g class=\"displacy-arrow\">\n",
       "    <path class=\"displacy-arc\" id=\"arrow-c9e31ed296d9461c899255c1698a9e2c-0-2\" stroke-width=\"2px\" d=\"M142,202.0 142,175.33333333333334 281.0,175.33333333333334 281.0,202.0\" fill=\"none\" stroke=\"currentColor\"/>\n",
       "    <text dy=\"1.25em\" style=\"font-size: 0.8em; letter-spacing: 1px\">\n",
       "        <textPath xlink:href=\"#arrow-c9e31ed296d9461c899255c1698a9e2c-0-2\" class=\"displacy-label\" startOffset=\"50%\" side=\"left\" fill=\"currentColor\" text-anchor=\"middle\">dobj</textPath>\n",
       "    </text>\n",
       "    <path class=\"displacy-arrowhead\" d=\"M281.0,204.0 L285.0,196.0 277.0,196.0\" fill=\"currentColor\"/>\n",
       "</g>\n",
       "\n",
       "<g class=\"displacy-arrow\">\n",
       "    <path class=\"displacy-arc\" id=\"arrow-c9e31ed296d9461c899255c1698a9e2c-0-3\" stroke-width=\"2px\" d=\"M302,202.0 302,188.66666666666666 358.0,188.66666666666666 358.0,202.0\" fill=\"none\" stroke=\"currentColor\"/>\n",
       "    <text dy=\"1.25em\" style=\"font-size: 0.8em; letter-spacing: 1px\">\n",
       "        <textPath xlink:href=\"#arrow-c9e31ed296d9461c899255c1698a9e2c-0-3\" class=\"displacy-label\" startOffset=\"50%\" side=\"left\" fill=\"currentColor\" text-anchor=\"middle\">prep</textPath>\n",
       "    </text>\n",
       "    <path class=\"displacy-arrowhead\" d=\"M358.0,204.0 L362.0,196.0 354.0,196.0\" fill=\"currentColor\"/>\n",
       "</g>\n",
       "\n",
       "<g class=\"displacy-arrow\">\n",
       "    <path class=\"displacy-arc\" id=\"arrow-c9e31ed296d9461c899255c1698a9e2c-0-4\" stroke-width=\"2px\" d=\"M462,202.0 462,175.33333333333334 601.0,175.33333333333334 601.0,202.0\" fill=\"none\" stroke=\"currentColor\"/>\n",
       "    <text dy=\"1.25em\" style=\"font-size: 0.8em; letter-spacing: 1px\">\n",
       "        <textPath xlink:href=\"#arrow-c9e31ed296d9461c899255c1698a9e2c-0-4\" class=\"displacy-label\" startOffset=\"50%\" side=\"left\" fill=\"currentColor\" text-anchor=\"middle\">amod</textPath>\n",
       "    </text>\n",
       "    <path class=\"displacy-arrowhead\" d=\"M462,204.0 L458,196.0 466,196.0\" fill=\"currentColor\"/>\n",
       "</g>\n",
       "\n",
       "<g class=\"displacy-arrow\">\n",
       "    <path class=\"displacy-arc\" id=\"arrow-c9e31ed296d9461c899255c1698a9e2c-0-5\" stroke-width=\"2px\" d=\"M542,202.0 542,188.66666666666666 598.0,188.66666666666666 598.0,202.0\" fill=\"none\" stroke=\"currentColor\"/>\n",
       "    <text dy=\"1.25em\" style=\"font-size: 0.8em; letter-spacing: 1px\">\n",
       "        <textPath xlink:href=\"#arrow-c9e31ed296d9461c899255c1698a9e2c-0-5\" class=\"displacy-label\" startOffset=\"50%\" side=\"left\" fill=\"currentColor\" text-anchor=\"middle\">compound</textPath>\n",
       "    </text>\n",
       "    <path class=\"displacy-arrowhead\" d=\"M542,204.0 L538,196.0 546,196.0\" fill=\"currentColor\"/>\n",
       "</g>\n",
       "\n",
       "<g class=\"displacy-arrow\">\n",
       "    <path class=\"displacy-arc\" id=\"arrow-c9e31ed296d9461c899255c1698a9e2c-0-6\" stroke-width=\"2px\" d=\"M382,202.0 382,162.0 604.0,162.0 604.0,202.0\" fill=\"none\" stroke=\"currentColor\"/>\n",
       "    <text dy=\"1.25em\" style=\"font-size: 0.8em; letter-spacing: 1px\">\n",
       "        <textPath xlink:href=\"#arrow-c9e31ed296d9461c899255c1698a9e2c-0-6\" class=\"displacy-label\" startOffset=\"50%\" side=\"left\" fill=\"currentColor\" text-anchor=\"middle\">pobj</textPath>\n",
       "    </text>\n",
       "    <path class=\"displacy-arrowhead\" d=\"M604.0,204.0 L608.0,196.0 600.0,196.0\" fill=\"currentColor\"/>\n",
       "</g>\n",
       "\n",
       "<g class=\"displacy-arrow\">\n",
       "    <path class=\"displacy-arc\" id=\"arrow-c9e31ed296d9461c899255c1698a9e2c-0-7\" stroke-width=\"2px\" d=\"M142,202.0 142,148.66666666666666 687.0,148.66666666666666 687.0,202.0\" fill=\"none\" stroke=\"currentColor\"/>\n",
       "    <text dy=\"1.25em\" style=\"font-size: 0.8em; letter-spacing: 1px\">\n",
       "        <textPath xlink:href=\"#arrow-c9e31ed296d9461c899255c1698a9e2c-0-7\" class=\"displacy-label\" startOffset=\"50%\" side=\"left\" fill=\"currentColor\" text-anchor=\"middle\">conj</textPath>\n",
       "    </text>\n",
       "    <path class=\"displacy-arrowhead\" d=\"M687.0,204.0 L691.0,196.0 683.0,196.0\" fill=\"currentColor\"/>\n",
       "</g>\n",
       "\n",
       "<g class=\"displacy-arrow\">\n",
       "    <path class=\"displacy-arc\" id=\"arrow-c9e31ed296d9461c899255c1698a9e2c-0-8\" stroke-width=\"2px\" d=\"M702,202.0 702,188.66666666666666 758.0,188.66666666666666 758.0,202.0\" fill=\"none\" stroke=\"currentColor\"/>\n",
       "    <text dy=\"1.25em\" style=\"font-size: 0.8em; letter-spacing: 1px\">\n",
       "        <textPath xlink:href=\"#arrow-c9e31ed296d9461c899255c1698a9e2c-0-8\" class=\"displacy-label\" startOffset=\"50%\" side=\"left\" fill=\"currentColor\" text-anchor=\"middle\">xcomp</textPath>\n",
       "    </text>\n",
       "    <path class=\"displacy-arrowhead\" d=\"M758.0,204.0 L762.0,196.0 754.0,196.0\" fill=\"currentColor\"/>\n",
       "</g>\n",
       "\n",
       "<g class=\"displacy-arrow\">\n",
       "    <path class=\"displacy-arc\" id=\"arrow-c9e31ed296d9461c899255c1698a9e2c-0-9\" stroke-width=\"2px\" d=\"M862,202.0 862,188.66666666666666 918.0,188.66666666666666 918.0,202.0\" fill=\"none\" stroke=\"currentColor\"/>\n",
       "    <text dy=\"1.25em\" style=\"font-size: 0.8em; letter-spacing: 1px\">\n",
       "        <textPath xlink:href=\"#arrow-c9e31ed296d9461c899255c1698a9e2c-0-9\" class=\"displacy-label\" startOffset=\"50%\" side=\"left\" fill=\"currentColor\" text-anchor=\"middle\">compound</textPath>\n",
       "    </text>\n",
       "    <path class=\"displacy-arrowhead\" d=\"M862,204.0 L858,196.0 866,196.0\" fill=\"currentColor\"/>\n",
       "</g>\n",
       "\n",
       "<g class=\"displacy-arrow\">\n",
       "    <path class=\"displacy-arc\" id=\"arrow-c9e31ed296d9461c899255c1698a9e2c-0-10\" stroke-width=\"2px\" d=\"M942,202.0 942,188.66666666666666 998.0,188.66666666666666 998.0,202.0\" fill=\"none\" stroke=\"currentColor\"/>\n",
       "    <text dy=\"1.25em\" style=\"font-size: 0.8em; letter-spacing: 1px\">\n",
       "        <textPath xlink:href=\"#arrow-c9e31ed296d9461c899255c1698a9e2c-0-10\" class=\"displacy-label\" startOffset=\"50%\" side=\"left\" fill=\"currentColor\" text-anchor=\"middle\">npadvmod</textPath>\n",
       "    </text>\n",
       "    <path class=\"displacy-arrowhead\" d=\"M942,204.0 L938,196.0 946,196.0\" fill=\"currentColor\"/>\n",
       "</g>\n",
       "\n",
       "<g class=\"displacy-arrow\">\n",
       "    <path class=\"displacy-arc\" id=\"arrow-c9e31ed296d9461c899255c1698a9e2c-0-11\" stroke-width=\"2px\" d=\"M782,202.0 782,162.0 1004.0,162.0 1004.0,202.0\" fill=\"none\" stroke=\"currentColor\"/>\n",
       "    <text dy=\"1.25em\" style=\"font-size: 0.8em; letter-spacing: 1px\">\n",
       "        <textPath xlink:href=\"#arrow-c9e31ed296d9461c899255c1698a9e2c-0-11\" class=\"displacy-label\" startOffset=\"50%\" side=\"left\" fill=\"currentColor\" text-anchor=\"middle\">dobj</textPath>\n",
       "    </text>\n",
       "    <path class=\"displacy-arrowhead\" d=\"M1004.0,204.0 L1008.0,196.0 1000.0,196.0\" fill=\"currentColor\"/>\n",
       "</g>\n",
       "\n",
       "<g class=\"displacy-arrow\">\n",
       "    <path class=\"displacy-arc\" id=\"arrow-c9e31ed296d9461c899255c1698a9e2c-0-12\" stroke-width=\"2px\" d=\"M142,202.0 142,135.33333333333331 1090.0,135.33333333333331 1090.0,202.0\" fill=\"none\" stroke=\"currentColor\"/>\n",
       "    <text dy=\"1.25em\" style=\"font-size: 0.8em; letter-spacing: 1px\">\n",
       "        <textPath xlink:href=\"#arrow-c9e31ed296d9461c899255c1698a9e2c-0-12\" class=\"displacy-label\" startOffset=\"50%\" side=\"left\" fill=\"currentColor\" text-anchor=\"middle\">advmod</textPath>\n",
       "    </text>\n",
       "    <path class=\"displacy-arrowhead\" d=\"M1090.0,204.0 L1094.0,196.0 1086.0,196.0\" fill=\"currentColor\"/>\n",
       "</g>\n",
       "</svg></span>"
      ],
      "text/plain": [
       "<IPython.core.display.HTML object>"
      ]
     },
     "metadata": {},
     "output_type": "display_data"
    }
   ],
   "source": [
    "options = {'compact': True, 'bg': 'white','distance': 80,\n",
    "           'color': 'green', 'font': 'Arial'}\n",
    "displacy.render(parsed_review, jupyter=True, style='dep', options=options)"
   ]
  },
  {
   "cell_type": "markdown",
   "metadata": {
    "id": "f6lKDAuGB5P-"
   },
   "source": [
    "## Processing noun chunks \n",
    "\n",
    "The dependency parser adds the `token.dep` and `token.head` attributes\n",
    "Further, it is also responsible for **noun chunks**: detecting sentences and base noun phrases"
   ]
  },
  {
   "cell_type": "code",
   "execution_count": 27,
   "metadata": {
    "colab": {
     "base_uri": "https://localhost:8080/",
     "height": 142
    },
    "id": "TaxCtqiBB8uC",
    "outputId": "fe1b5ca2-4335-4b53-e342-01c26c06261d"
   },
   "outputs": [
    {
     "data": {
      "text/html": [
       "<div>\n",
       "<style scoped>\n",
       "    .dataframe tbody tr th:only-of-type {\n",
       "        vertical-align: middle;\n",
       "    }\n",
       "\n",
       "    .dataframe tbody tr th {\n",
       "        vertical-align: top;\n",
       "    }\n",
       "\n",
       "    .dataframe thead th {\n",
       "        text-align: right;\n",
       "    }\n",
       "</style>\n",
       "<table border=\"1\" class=\"dataframe\">\n",
       "  <thead>\n",
       "    <tr style=\"text-align: right;\">\n",
       "      <th></th>\n",
       "      <th>text</th>\n",
       "      <th>root</th>\n",
       "      <th>root.text</th>\n",
       "      <th>root.dep_</th>\n",
       "      <th>root.head.text</th>\n",
       "    </tr>\n",
       "  </thead>\n",
       "  <tbody>\n",
       "    <tr>\n",
       "      <th>0</th>\n",
       "      <td>tiny seating</td>\n",
       "      <td>seating</td>\n",
       "      <td>seating</td>\n",
       "      <td>dobj</td>\n",
       "      <td>teeny</td>\n",
       "    </tr>\n",
       "    <tr>\n",
       "      <th>1</th>\n",
       "      <td>limited starbucks grab</td>\n",
       "      <td>(grab,)</td>\n",
       "      <td>(grab,)</td>\n",
       "      <td>pobj</td>\n",
       "      <td>inside</td>\n",
       "    </tr>\n",
       "  </tbody>\n",
       "</table>\n",
       "</div>"
      ],
      "text/plain": [
       "                     text     root root.text root.dep_ root.head.text\n",
       "0            tiny seating  seating   seating      dobj          teeny\n",
       "1  limited starbucks grab  (grab,)   (grab,)      pobj         inside"
      ]
     },
     "execution_count": 27,
     "metadata": {},
     "output_type": "execute_result"
    }
   ],
   "source": [
    "noun_chunks_df = pd.DataFrame()\n",
    "\n",
    "for i, chunk in enumerate(parsed_review.noun_chunks):\n",
    "    noun_chunks_df.loc[i, 'text'] = chunk.text\n",
    "    noun_chunks_df.loc[i, 'root'] = chunk.root,\n",
    "    noun_chunks_df.loc[i, 'root.text'] = chunk.root.text,\n",
    "    noun_chunks_df.loc[i, 'root.dep_'] = chunk.root.dep_\n",
    "    noun_chunks_df.loc[i, 'root.head.text'] = chunk.root.head.text\n",
    "\n",
    "noun_chunks_df[:20]"
   ]
  },
  {
   "cell_type": "code",
   "execution_count": 28,
   "metadata": {
    "id": "6SWu3vXhFDZT"
   },
   "outputs": [
    {
     "name": "stdout",
     "output_type": "stream",
     "text": [
      "01-clean-data.ipynb\t\t      evaluate\n",
      "02-prepare-spacy-docs.ipynb\t      models\n",
      "03-build-model-basic.ipynb\t      README.md\n",
      "04-build-model-TextCatBOW.ipynb       scratch-testing.ipynb\n",
      "05-build-model-TextCatCNN.ipynb       yelp_review_polarity_csv\n",
      "06-build-model-TextCatEnsemble.ipynb  yelp_review_polarity_csv.tgz\n",
      "07-evaluate-review.ipynb\t      yelp_test_df.csv\n",
      "config\t\t\t\t      yelp_train_df.csv\n",
      "data\n"
     ]
    }
   ],
   "source": [
    "!ls"
   ]
  },
  {
   "cell_type": "code",
   "execution_count": null,
   "metadata": {},
   "outputs": [],
   "source": []
  },
  {
   "cell_type": "code",
   "execution_count": null,
   "metadata": {},
   "outputs": [],
   "source": []
  }
 ],
 "metadata": {
  "colab": {
   "collapsed_sections": [],
   "name": "yelp-reviews-stars.ipynb",
   "provenance": []
  },
  "kernelspec": {
   "display_name": "Python 3",
   "language": "python",
   "name": "python3"
  },
  "language_info": {
   "codemirror_mode": {
    "name": "ipython",
    "version": 3
   },
   "file_extension": ".py",
   "mimetype": "text/x-python",
   "name": "python",
   "nbconvert_exporter": "python",
   "pygments_lexer": "ipython3",
   "version": "3.8.6"
  }
 },
 "nbformat": 4,
 "nbformat_minor": 4
}
