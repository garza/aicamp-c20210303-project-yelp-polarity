{
 "cells": [
  {
   "cell_type": "markdown",
   "id": "altered-chemistry",
   "metadata": {},
   "source": [
    "# 06-build-model-TextCatBERT\n",
    "\n",
    "## Main objectives:\n",
    "\n",
    "- Use spaCy's BERT architecture to train a BERT model.\n",
    "    - [https://github.com/explosion/spacy-transformers](https://github.com/explosion/spacy-transformers)\n",
    "- Use spaCy generated docs to train this model\n",
    "- Run basic validation and evaluation \n",
    "\n",
    "Ended up using a much smaller train and dev dataset (100 vs. 5000 used in other models) due to lack of GPU for faster training"
   ]
  },
  {
   "cell_type": "code",
   "execution_count": 1,
   "id": "fourth-cleveland",
   "metadata": {},
   "outputs": [],
   "source": [
    "import spacy\n",
    "# load an english language model in spacy\n",
    "nlp = spacy.load(\"en_core_web_lg\")"
   ]
  },
  {
   "cell_type": "code",
   "execution_count": 2,
   "id": "final-roads",
   "metadata": {},
   "outputs": [
    {
     "name": "stdout",
     "output_type": "stream",
     "text": [
      "dev.spacy  train.spacy\n"
     ]
    }
   ],
   "source": [
    "!ls data"
   ]
  },
  {
   "cell_type": "markdown",
   "id": "charged-navigator",
   "metadata": {},
   "source": [
    "# Validate configuration file"
   ]
  },
  {
   "cell_type": "code",
   "execution_count": 11,
   "id": "closing-courage",
   "metadata": {},
   "outputs": [
    {
     "name": "stdout",
     "output_type": "stream",
     "text": [
      "python-exec: Invalid impl in /etc/python-exec/python-exec.conf: python3.6\n",
      "python-exec: Invalid impl in /etc/python-exec/python-exec.conf: python2.7\n",
      "2021-03-25 20:50:39.832972: I tensorflow/stream_executor/platform/default/dso_loader.cc:49] Successfully opened dynamic library libcudart.so.11.0\n",
      "\u001b[1m\n",
      "============================= Config validation =============================\u001b[0m\n",
      "\u001b[1m\n",
      "===================== Config validation for [initialize] =====================\u001b[0m\n",
      "\u001b[1m\n",
      "====================== Config validation for [training] ======================\u001b[0m\n",
      "\u001b[38;5;2m✔ Config is valid\u001b[0m\n"
     ]
    }
   ],
   "source": [
    "# validate configuration\n",
    "!python -m spacy debug config ./config/config-TextCatBERT.cfg"
   ]
  },
  {
   "cell_type": "code",
   "execution_count": 12,
   "id": "neural-property",
   "metadata": {},
   "outputs": [
    {
     "name": "stdout",
     "output_type": "stream",
     "text": [
      "python-exec: Invalid impl in /etc/python-exec/python-exec.conf: python3.6\n",
      "python-exec: Invalid impl in /etc/python-exec/python-exec.conf: python2.7\n",
      "2021-03-25 20:50:44.814028: I tensorflow/stream_executor/platform/default/dso_loader.cc:49] Successfully opened dynamic library libcudart.so.11.0\n",
      "\u001b[1m\n",
      "============================ Data file validation ============================\u001b[0m\n",
      "\u001b[38;5;2m✔ Corpus is loadable\u001b[0m\n",
      "\u001b[38;5;2m✔ Pipeline can be initialized with data\u001b[0m\n",
      "\u001b[1m\n",
      "=============================== Training stats ===============================\u001b[0m\n",
      "Language: en\n",
      "Training pipeline: transformer, textcat\n",
      "100 training docs\n",
      "100 evaluation docs\n",
      "\u001b[38;5;2m✔ No overlap between training and evaluation data\u001b[0m\n",
      "\u001b[38;5;3m⚠ Low number of examples to train a new pipeline (100)\u001b[0m\n",
      "\u001b[1m\n",
      "============================== Vocab & Vectors ==============================\u001b[0m\n",
      "\u001b[38;5;4mℹ 5739 total word(s) in the data (1931 unique)\u001b[0m\n",
      "\u001b[38;5;4mℹ No word vectors present in the package\u001b[0m\n",
      "\u001b[1m\n",
      "================================== Summary ==================================\u001b[0m\n",
      "\u001b[38;5;2m✔ 3 checks passed\u001b[0m\n",
      "\u001b[38;5;3m⚠ 1 warning\u001b[0m\n"
     ]
    }
   ],
   "source": [
    "!python -m spacy debug data ./config/config-TextCatBERT.cfg"
   ]
  },
  {
   "cell_type": "markdown",
   "id": "gentle-geology",
   "metadata": {},
   "source": [
    "# Train the model"
   ]
  },
  {
   "cell_type": "code",
   "execution_count": null,
   "id": "professional-anger",
   "metadata": {},
   "outputs": [
    {
     "name": "stdout",
     "output_type": "stream",
     "text": [
      "env: TOKENIZERS_PARALLELISM=false\n",
      "python-exec: Invalid impl in /etc/python-exec/python-exec.conf: python3.6\n",
      "python-exec: Invalid impl in /etc/python-exec/python-exec.conf: python2.7\n",
      "2021-03-25 20:51:32.029232: I tensorflow/stream_executor/platform/default/dso_loader.cc:49] Successfully opened dynamic library libcudart.so.11.0\n",
      "\u001b[38;5;4mℹ Using CPU\u001b[0m\n",
      "\u001b[1m\n",
      "=========================== Initializing pipeline ===========================\u001b[0m\n",
      "[2021-03-25 20:51:33,785] [INFO] Set up nlp object from config\n",
      "[2021-03-25 20:51:33,918] [INFO] Pipeline: ['transformer', 'textcat']\n",
      "[2021-03-25 20:51:33,922] [INFO] Created vocabulary\n",
      "[2021-03-25 20:51:33,922] [INFO] Finished initializing nlp object\n",
      "[2021-03-25 20:52:06,935] [INFO] Initialized pipeline components: ['transformer', 'textcat']\n",
      "\u001b[38;5;2m✔ Initialized pipeline\u001b[0m\n",
      "\u001b[1m\n",
      "============================= Training pipeline =============================\u001b[0m\n",
      "\u001b[38;5;4mℹ Pipeline: ['transformer', 'textcat']\u001b[0m\n",
      "\u001b[38;5;4mℹ Initial learn rate: 0.0\u001b[0m\n",
      "\u001b[34m\u001b[1mwandb\u001b[0m: W&B API key is configured (use `wandb login --relogin` to force relogin)\n",
      "2021-03-25 20:52:23.314717: I tensorflow/stream_executor/platform/default/dso_loader.cc:49] Successfully opened dynamic library libcudart.so.11.0\n",
      "\u001b[34m\u001b[1mwandb\u001b[0m: Tracking run with wandb version 0.10.23\n",
      "\u001b[34m\u001b[1mwandb\u001b[0m: Syncing run \u001b[33mdashing-lake-25\u001b[0m\n",
      "\u001b[34m\u001b[1mwandb\u001b[0m: ⭐️ View project at \u001b[34m\u001b[4mhttps://wandb.ai/garza/yelp-polarity\u001b[0m\n",
      "\u001b[34m\u001b[1mwandb\u001b[0m: 🚀 View run at \u001b[34m\u001b[4mhttps://wandb.ai/garza/yelp-polarity/runs/gy98ir3b\u001b[0m\n",
      "\u001b[34m\u001b[1mwandb\u001b[0m: Run data is saved locally in /home/garza/notebooks/aicamp/yelp-project/wandb/run-20210325_205212-gy98ir3b\n",
      "\u001b[34m\u001b[1mwandb\u001b[0m: Run `wandb offline` to turn off syncing.\n",
      "\n",
      "E    #       LOSS TRANS...  LOSS TEXTCAT  CATS_SCORE  CATS_MACRO_F  SCORE \n",
      "---  ------  -------------  ------------  ----------  ------------  ------\n",
      "  0       0           0.00          0.50       50.00         66.67    0.58\n",
      " 10      10           0.00          5.01       49.03         33.33    0.41\n",
      " 20      20           0.00          4.98       46.80         33.33    0.40\n",
      " 30      30           0.00          4.79       66.68         33.33    0.50\n",
      " 40      40           0.00          4.44       81.60         33.33    0.57\n",
      " 50      50           0.00          3.94       87.16         82.96    0.85\n",
      " 60      60           0.00          3.34       87.44         82.92    0.85\n",
      " 70      70           0.00          2.72       86.80         81.88    0.84\n",
      " 80      80           0.00          2.10       87.12         83.97    0.86\n",
      " 90      90           0.00          1.53       86.88         78.74    0.83\n",
      "100     100           0.00          1.05       86.76         82.92    0.85\n",
      "110     110           0.00          0.67       87.16         84.96    0.86\n",
      "120     120           0.00          0.40       87.00         84.96    0.86\n"
     ]
    }
   ],
   "source": [
    "%env TOKENIZERS_PARALLELISM=false\n",
    "!python -m spacy train ./config/config-TextCatBERT.cfg --output ./models/textCatBERT\n"
   ]
  },
  {
   "cell_type": "markdown",
   "id": "covered-briefing",
   "metadata": {},
   "source": [
    "# Evaluate our best model output and save metrics to disk\n",
    "\n",
    "For hyperparameter tuning, experimented with different BOW attributes and TexCatEnsemble parameters:\n",
    "\n",
    "- ngram_size = 4 (TODO: should try again with ngram_size = 2 after doign BOW analysis)\n",
    "- adjusted width to 128, nominal performance gain\n",
    "- tok2vec model embed attributed modified to include:\n",
    "    - \"ORTH\", \"LOWER\", \"NORM\", \"PREFIX\", \"SUFFIX\", \"SHAPE\", \"ID\"\n",
    "    - [2000, 2000, 1000, 1000, 1000, 1000]\n",
    "\n",
    "Also adjusted the width size from 64 to 96, which only resulted in a nominal increase in performance.\n",
    "\n",
    "Training was tested on training datasets of 100, 500, 1000 and finally, 5000."
   ]
  },
  {
   "cell_type": "code",
   "execution_count": 9,
   "id": "logical-origin",
   "metadata": {},
   "outputs": [
    {
     "name": "stdout",
     "output_type": "stream",
     "text": [
      "python-exec: Invalid impl in /etc/python-exec/python-exec.conf: python3.6\n",
      "python-exec: Invalid impl in /etc/python-exec/python-exec.conf: python2.7\n",
      "2021-03-25 20:36:33.789066: I tensorflow/stream_executor/platform/default/dso_loader.cc:49] Successfully opened dynamic library libcudart.so.11.0\n",
      "\u001b[38;5;4mℹ Using CPU\u001b[0m\n",
      "\u001b[1m\n",
      "================================== Results ==================================\u001b[0m\n",
      "\n",
      "TOK                   100.00\n",
      "TEXTCAT (macro AUC)   92.85 \n",
      "SPEED                 34783 \n",
      "\n",
      "\u001b[1m\n",
      "=========================== Textcat F (per label) ===========================\u001b[0m\n",
      "\n",
      "               P       R       F\n",
      "positive   87.52   81.36   84.33\n",
      "negative   82.59   88.40   85.39\n",
      "\n",
      "\u001b[1m\n",
      "======================== Textcat ROC AUC (per label) ========================\u001b[0m\n",
      "\n",
      "           ROC AUC\n",
      "positive      0.93\n",
      "negative      0.93\n",
      "\n",
      "\u001b[38;5;2m✔ Saved results to evaluate/model-textCatEnsemble-metrics.json\u001b[0m\n"
     ]
    }
   ],
   "source": [
    "!python -m spacy evaluate ./models/textCatBERT/model-best ./data/dev.spacy --output ./evaluate/model-textCatBERT-metrics.json"
   ]
  },
  {
   "cell_type": "code",
   "execution_count": null,
   "id": "religious-ordering",
   "metadata": {},
   "outputs": [],
   "source": []
  },
  {
   "cell_type": "code",
   "execution_count": null,
   "id": "painful-trick",
   "metadata": {},
   "outputs": [],
   "source": []
  }
 ],
 "metadata": {
  "kernelspec": {
   "display_name": "Python 3",
   "language": "python",
   "name": "python3"
  },
  "language_info": {
   "codemirror_mode": {
    "name": "ipython",
    "version": 3
   },
   "file_extension": ".py",
   "mimetype": "text/x-python",
   "name": "python",
   "nbconvert_exporter": "python",
   "pygments_lexer": "ipython3",
   "version": "3.8.8"
  }
 },
 "nbformat": 4,
 "nbformat_minor": 5
}
