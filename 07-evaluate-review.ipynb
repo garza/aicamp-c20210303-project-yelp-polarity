{
 "cells": [
  {
   "cell_type": "markdown",
   "id": "intimate-savannah",
   "metadata": {},
   "source": [
    "# 07-evalute-review\n",
    "## Main objectives:\n",
    "\n",
    "- aggregate all model metrics and display for review\n",
    "\n",
    "- models:\n",
    "    - basic_json: vanilla default config from spacy.io trained via 03-build-model-basic\n",
    "    - bow_json: BOW model trained via 04-build-model-TextCatBOW\n",
    "    - cnn_json: CNN model trained via 05-build-model-TextCatCNN\n",
    "    - ens_json: Stacked Ensemble model trained via 06-build-model-TextCatEnsemble"
   ]
  },
  {
   "cell_type": "code",
   "execution_count": 1,
   "id": "cardiac-blond",
   "metadata": {},
   "outputs": [
    {
     "data": {
      "text/html": [
       "<div>\n",
       "<style scoped>\n",
       "    .dataframe tbody tr th:only-of-type {\n",
       "        vertical-align: middle;\n",
       "    }\n",
       "\n",
       "    .dataframe tbody tr th {\n",
       "        vertical-align: top;\n",
       "    }\n",
       "\n",
       "    .dataframe thead th {\n",
       "        text-align: right;\n",
       "    }\n",
       "</style>\n",
       "<table border=\"1\" class=\"dataframe\">\n",
       "  <thead>\n",
       "    <tr style=\"text-align: right;\">\n",
       "      <th></th>\n",
       "      <th>token_acc</th>\n",
       "      <th>cats_score</th>\n",
       "      <th>speed</th>\n",
       "      <th>cats_f_per_type</th>\n",
       "      <th>cats_auc_per_type</th>\n",
       "      <th>model</th>\n",
       "    </tr>\n",
       "  </thead>\n",
       "  <tbody>\n",
       "    <tr>\n",
       "      <th>positive</th>\n",
       "      <td>1</td>\n",
       "      <td>0.945689</td>\n",
       "      <td>27802.141382</td>\n",
       "      <td>{'p': 0.8819725141, 'r': 0.8728, 'f': 0.877362...</td>\n",
       "      <td>0.945689</td>\n",
       "      <td>Basic</td>\n",
       "    </tr>\n",
       "    <tr>\n",
       "      <th>negative</th>\n",
       "      <td>1</td>\n",
       "      <td>0.945689</td>\n",
       "      <td>27802.141382</td>\n",
       "      <td>{'p': 0.8741092637000001, 'r': 0.8832000000000...</td>\n",
       "      <td>0.945689</td>\n",
       "      <td>Basic</td>\n",
       "    </tr>\n",
       "  </tbody>\n",
       "</table>\n",
       "</div>"
      ],
      "text/plain": [
       "          token_acc  cats_score         speed  \\\n",
       "positive          1    0.945689  27802.141382   \n",
       "negative          1    0.945689  27802.141382   \n",
       "\n",
       "                                            cats_f_per_type  \\\n",
       "positive  {'p': 0.8819725141, 'r': 0.8728, 'f': 0.877362...   \n",
       "negative  {'p': 0.8741092637000001, 'r': 0.8832000000000...   \n",
       "\n",
       "          cats_auc_per_type  model  \n",
       "positive           0.945689  Basic  \n",
       "negative           0.945689  Basic  "
      ]
     },
     "execution_count": 1,
     "metadata": {},
     "output_type": "execute_result"
    }
   ],
   "source": [
    "import pandas as pd\n",
    "\n",
    "basic = \"./evaluate/basic-metrics.json\"\n",
    "bow = \"./evaluate/model-textCatBOW-metrics.json\"\n",
    "cnn = \"./evaluate/model-textCatCNN-metrics.json\"\n",
    "ens = \"./evaluate/model-textCatEnsemble-metrics.json\"\n",
    "\n",
    "basic_json = pd.read_json(basic)\n",
    "bow_json = pd.read_json(bow)\n",
    "cnn_json = pd.read_json(cnn)\n",
    "ens_json = pd.read_json(ens)\n",
    "\n",
    "basic_json['model'] = 'Basic'\n",
    "bow_json['model'] = 'BOW'\n",
    "cnn_json['model'] = 'CNN'\n",
    "ens_json['model'] = 'Ensemble'\n",
    "\n",
    "\n",
    "basic_json"
   ]
  },
  {
   "cell_type": "code",
   "execution_count": 2,
   "id": "charged-boxing",
   "metadata": {},
   "outputs": [
    {
     "data": {
      "text/html": [
       "<div>\n",
       "<style scoped>\n",
       "    .dataframe tbody tr th:only-of-type {\n",
       "        vertical-align: middle;\n",
       "    }\n",
       "\n",
       "    .dataframe tbody tr th {\n",
       "        vertical-align: top;\n",
       "    }\n",
       "\n",
       "    .dataframe thead th {\n",
       "        text-align: right;\n",
       "    }\n",
       "</style>\n",
       "<table border=\"1\" class=\"dataframe\">\n",
       "  <thead>\n",
       "    <tr style=\"text-align: right;\">\n",
       "      <th></th>\n",
       "      <th>token_acc</th>\n",
       "      <th>cats_score</th>\n",
       "      <th>speed</th>\n",
       "      <th>cats_f_per_type</th>\n",
       "      <th>cats_auc_per_type</th>\n",
       "      <th>model</th>\n",
       "    </tr>\n",
       "  </thead>\n",
       "  <tbody>\n",
       "    <tr>\n",
       "      <th>positive</th>\n",
       "      <td>1</td>\n",
       "      <td>0.945689</td>\n",
       "      <td>314421.557128</td>\n",
       "      <td>{'p': 0.8819725141, 'r': 0.8728, 'f': 0.877362...</td>\n",
       "      <td>0.945689</td>\n",
       "      <td>BOW</td>\n",
       "    </tr>\n",
       "    <tr>\n",
       "      <th>negative</th>\n",
       "      <td>1</td>\n",
       "      <td>0.945689</td>\n",
       "      <td>314421.557128</td>\n",
       "      <td>{'p': 0.8741092637000001, 'r': 0.8832000000000...</td>\n",
       "      <td>0.945689</td>\n",
       "      <td>BOW</td>\n",
       "    </tr>\n",
       "  </tbody>\n",
       "</table>\n",
       "</div>"
      ],
      "text/plain": [
       "          token_acc  cats_score          speed  \\\n",
       "positive          1    0.945689  314421.557128   \n",
       "negative          1    0.945689  314421.557128   \n",
       "\n",
       "                                            cats_f_per_type  \\\n",
       "positive  {'p': 0.8819725141, 'r': 0.8728, 'f': 0.877362...   \n",
       "negative  {'p': 0.8741092637000001, 'r': 0.8832000000000...   \n",
       "\n",
       "          cats_auc_per_type model  \n",
       "positive           0.945689   BOW  \n",
       "negative           0.945689   BOW  "
      ]
     },
     "execution_count": 2,
     "metadata": {},
     "output_type": "execute_result"
    }
   ],
   "source": [
    "bow_json"
   ]
  },
  {
   "cell_type": "code",
   "execution_count": 3,
   "id": "interpreted-second",
   "metadata": {},
   "outputs": [
    {
     "data": {
      "text/html": [
       "<div>\n",
       "<style scoped>\n",
       "    .dataframe tbody tr th:only-of-type {\n",
       "        vertical-align: middle;\n",
       "    }\n",
       "\n",
       "    .dataframe tbody tr th {\n",
       "        vertical-align: top;\n",
       "    }\n",
       "\n",
       "    .dataframe thead th {\n",
       "        text-align: right;\n",
       "    }\n",
       "</style>\n",
       "<table border=\"1\" class=\"dataframe\">\n",
       "  <thead>\n",
       "    <tr style=\"text-align: right;\">\n",
       "      <th></th>\n",
       "      <th>token_acc</th>\n",
       "      <th>cats_score</th>\n",
       "      <th>speed</th>\n",
       "      <th>cats_f_per_type</th>\n",
       "      <th>cats_auc_per_type</th>\n",
       "      <th>model</th>\n",
       "    </tr>\n",
       "  </thead>\n",
       "  <tbody>\n",
       "    <tr>\n",
       "      <th>positive</th>\n",
       "      <td>1</td>\n",
       "      <td>0.930368</td>\n",
       "      <td>17016.256714</td>\n",
       "      <td>{'p': 0.8644553645, 'r': 0.8444, 'f': 0.854309...</td>\n",
       "      <td>0.930368</td>\n",
       "      <td>CNN</td>\n",
       "    </tr>\n",
       "    <tr>\n",
       "      <th>negative</th>\n",
       "      <td>1</td>\n",
       "      <td>0.930368</td>\n",
       "      <td>17016.256714</td>\n",
       "      <td>{'p': 0.8479280688, 'r': 0.8676, 'f': 0.857651...</td>\n",
       "      <td>0.930368</td>\n",
       "      <td>CNN</td>\n",
       "    </tr>\n",
       "  </tbody>\n",
       "</table>\n",
       "</div>"
      ],
      "text/plain": [
       "          token_acc  cats_score         speed  \\\n",
       "positive          1    0.930368  17016.256714   \n",
       "negative          1    0.930368  17016.256714   \n",
       "\n",
       "                                            cats_f_per_type  \\\n",
       "positive  {'p': 0.8644553645, 'r': 0.8444, 'f': 0.854309...   \n",
       "negative  {'p': 0.8479280688, 'r': 0.8676, 'f': 0.857651...   \n",
       "\n",
       "          cats_auc_per_type model  \n",
       "positive           0.930368   CNN  \n",
       "negative           0.930368   CNN  "
      ]
     },
     "execution_count": 3,
     "metadata": {},
     "output_type": "execute_result"
    }
   ],
   "source": [
    "cnn_json"
   ]
  },
  {
   "cell_type": "code",
   "execution_count": 4,
   "id": "flush-allocation",
   "metadata": {},
   "outputs": [
    {
     "data": {
      "text/html": [
       "<div>\n",
       "<style scoped>\n",
       "    .dataframe tbody tr th:only-of-type {\n",
       "        vertical-align: middle;\n",
       "    }\n",
       "\n",
       "    .dataframe tbody tr th {\n",
       "        vertical-align: top;\n",
       "    }\n",
       "\n",
       "    .dataframe thead th {\n",
       "        text-align: right;\n",
       "    }\n",
       "</style>\n",
       "<table border=\"1\" class=\"dataframe\">\n",
       "  <thead>\n",
       "    <tr style=\"text-align: right;\">\n",
       "      <th></th>\n",
       "      <th>token_acc</th>\n",
       "      <th>cats_score</th>\n",
       "      <th>speed</th>\n",
       "      <th>cats_f_per_type</th>\n",
       "      <th>cats_auc_per_type</th>\n",
       "      <th>model</th>\n",
       "    </tr>\n",
       "  </thead>\n",
       "  <tbody>\n",
       "    <tr>\n",
       "      <th>positive</th>\n",
       "      <td>1</td>\n",
       "      <td>0.928509</td>\n",
       "      <td>15153.034891</td>\n",
       "      <td>{'p': 0.8752151463000001, 'r': 0.8136, 'f': 0....</td>\n",
       "      <td>0.928509</td>\n",
       "      <td>Ensemble</td>\n",
       "    </tr>\n",
       "    <tr>\n",
       "      <th>negative</th>\n",
       "      <td>1</td>\n",
       "      <td>0.928509</td>\n",
       "      <td>15153.034891</td>\n",
       "      <td>{'p': 0.8258594918000001, 'r': 0.884, 'f': 0.8...</td>\n",
       "      <td>0.928509</td>\n",
       "      <td>Ensemble</td>\n",
       "    </tr>\n",
       "  </tbody>\n",
       "</table>\n",
       "</div>"
      ],
      "text/plain": [
       "          token_acc  cats_score         speed  \\\n",
       "positive          1    0.928509  15153.034891   \n",
       "negative          1    0.928509  15153.034891   \n",
       "\n",
       "                                            cats_f_per_type  \\\n",
       "positive  {'p': 0.8752151463000001, 'r': 0.8136, 'f': 0....   \n",
       "negative  {'p': 0.8258594918000001, 'r': 0.884, 'f': 0.8...   \n",
       "\n",
       "          cats_auc_per_type     model  \n",
       "positive           0.928509  Ensemble  \n",
       "negative           0.928509  Ensemble  "
      ]
     },
     "execution_count": 4,
     "metadata": {},
     "output_type": "execute_result"
    }
   ],
   "source": [
    "ens_json"
   ]
  },
  {
   "cell_type": "markdown",
   "id": "helpful-masters",
   "metadata": {},
   "source": [
    "# Comparing models with wandb.ai\n",
    "\n",
    "- great quickstart docs located on their documentation site:\n",
    "- [https://docs.wandb.ai/quickstart](https://docs.wandb.ai/quickstart)"
   ]
  },
  {
   "cell_type": "markdown",
   "id": "intelligent-reasoning",
   "metadata": {},
   "source": [
    "Straightforward addition to config to wire up your evaluate cycle to wandb.ai:\n",
    "\n",
    "```\n",
    "[variables]\n",
    "wandb_project_name = \"yelp-polarity\"\n",
    "\n",
    "[training.logger]\n",
    "@loggers = \"spacy.WandbLogger.v1\"\n",
    "project_name = ${variables.wandb_project_name}\n",
    "remove_config_values = []\n",
    "\n",
    "```\n"
   ]
  },
  {
   "cell_type": "markdown",
   "id": "suspected-quarterly",
   "metadata": {},
   "source": [
    "Published dashboard of model training comparisons\n",
    "\n",
    "- [https://wandb.ai/garza/yelp-polarity/reports/Project-Dashboard--Vmlldzo1NTIxMjE](https://wandb.ai/garza/yelp-polarity/reports/Project-Dashboard--Vmlldzo1NTIxMjE)"
   ]
  },
  {
   "cell_type": "code",
   "execution_count": null,
   "id": "editorial-anniversary",
   "metadata": {},
   "outputs": [],
   "source": []
  }
 ],
 "metadata": {
  "kernelspec": {
   "display_name": "Python 3",
   "language": "python",
   "name": "python3"
  },
  "language_info": {
   "codemirror_mode": {
    "name": "ipython",
    "version": 3
   },
   "file_extension": ".py",
   "mimetype": "text/x-python",
   "name": "python",
   "nbconvert_exporter": "python",
   "pygments_lexer": "ipython3",
   "version": "3.8.6"
  }
 },
 "nbformat": 4,
 "nbformat_minor": 5
}
