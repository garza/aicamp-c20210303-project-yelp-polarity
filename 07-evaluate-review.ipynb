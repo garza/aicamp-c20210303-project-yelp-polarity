{
 "cells": [
  {
   "cell_type": "markdown",
   "id": "assured-argentina",
   "metadata": {},
   "source": [
    "# 07-evalute-review\n",
    "## Main objectives:\n",
    "\n",
    "- aggregate all model metrics and display for review\n",
    "\n",
    "- models:\n",
    "    - basic_json: vanilla default config from spacy.io trained via 03-build-model-basic\n",
    "    - bow_json: BOW model trained via 04-build-model-TextCatBOW\n",
    "    - cnn_json: CNN model trained via 05-build-model-TextCatCNN\n",
    "    - ens_json: Stacked Ensemble model trained via 06-build-model-TextCatEnsemble"
   ]
  },
  {
   "cell_type": "code",
   "execution_count": 21,
   "id": "configured-recorder",
   "metadata": {},
   "outputs": [
    {
     "data": {
      "text/html": [
       "<div>\n",
       "<style scoped>\n",
       "    .dataframe tbody tr th:only-of-type {\n",
       "        vertical-align: middle;\n",
       "    }\n",
       "\n",
       "    .dataframe tbody tr th {\n",
       "        vertical-align: top;\n",
       "    }\n",
       "\n",
       "    .dataframe thead th {\n",
       "        text-align: right;\n",
       "    }\n",
       "</style>\n",
       "<table border=\"1\" class=\"dataframe\">\n",
       "  <thead>\n",
       "    <tr style=\"text-align: right;\">\n",
       "      <th></th>\n",
       "      <th>token_acc</th>\n",
       "      <th>cats_score</th>\n",
       "      <th>speed</th>\n",
       "      <th>cats_f_per_type</th>\n",
       "      <th>cats_auc_per_type</th>\n",
       "      <th>model</th>\n",
       "    </tr>\n",
       "  </thead>\n",
       "  <tbody>\n",
       "    <tr>\n",
       "      <th>positive</th>\n",
       "      <td>1</td>\n",
       "      <td>0.697747</td>\n",
       "      <td>48068.467643</td>\n",
       "      <td>{'p': 1.0, 'r': 0.5358, 'f': 0.6977471025}</td>\n",
       "      <td>0.921933</td>\n",
       "      <td>Basic</td>\n",
       "    </tr>\n",
       "  </tbody>\n",
       "</table>\n",
       "</div>"
      ],
      "text/plain": [
       "          token_acc  cats_score         speed  \\\n",
       "positive          1    0.697747  48068.467643   \n",
       "\n",
       "                                     cats_f_per_type  cats_auc_per_type  model  \n",
       "positive  {'p': 1.0, 'r': 0.5358, 'f': 0.6977471025}           0.921933  Basic  "
      ]
     },
     "execution_count": 21,
     "metadata": {},
     "output_type": "execute_result"
    }
   ],
   "source": [
    "import pandas as pd\n",
    "\n",
    "basic = \"./evaluate/basic-metrics.json\"\n",
    "bow = \"./evaluate/model-textCatBOW-metrics.json\"\n",
    "cnn = \"./evaluate/model-textCatCNN-metrics.json\"\n",
    "ens = \"./evaluate/model-textCatEnsemble-metrics.json\"\n",
    "\n",
    "basic_json = pd.read_json(basic)\n",
    "bow_json = pd.read_json(bow)\n",
    "cnn_json = pd.read_json(cnn)\n",
    "ens_json = pd.read_json(ens)\n",
    "\n",
    "basic_json['model'] = 'Basic'\n",
    "bow_json['model'] = 'BOW'\n",
    "cnn_json['model'] = 'CNN'\n",
    "ens_json['model'] = 'Ensemble'\n",
    "\n",
    "\n",
    "basic_json"
   ]
  },
  {
   "cell_type": "code",
   "execution_count": 22,
   "id": "worse-acrylic",
   "metadata": {},
   "outputs": [
    {
     "data": {
      "text/html": [
       "<div>\n",
       "<style scoped>\n",
       "    .dataframe tbody tr th:only-of-type {\n",
       "        vertical-align: middle;\n",
       "    }\n",
       "\n",
       "    .dataframe tbody tr th {\n",
       "        vertical-align: top;\n",
       "    }\n",
       "\n",
       "    .dataframe thead th {\n",
       "        text-align: right;\n",
       "    }\n",
       "</style>\n",
       "<table border=\"1\" class=\"dataframe\">\n",
       "  <thead>\n",
       "    <tr style=\"text-align: right;\">\n",
       "      <th></th>\n",
       "      <th>token_acc</th>\n",
       "      <th>cats_score</th>\n",
       "      <th>speed</th>\n",
       "      <th>cats_f_per_type</th>\n",
       "      <th>cats_auc_per_type</th>\n",
       "      <th>model</th>\n",
       "    </tr>\n",
       "  </thead>\n",
       "  <tbody>\n",
       "    <tr>\n",
       "      <th>positive</th>\n",
       "      <td>1</td>\n",
       "      <td>0.703824</td>\n",
       "      <td>896243.020043</td>\n",
       "      <td>{'p': 1.0, 'r': 0.543, 'f': 0.70382372}</td>\n",
       "      <td>0.919289</td>\n",
       "      <td>BOW</td>\n",
       "    </tr>\n",
       "  </tbody>\n",
       "</table>\n",
       "</div>"
      ],
      "text/plain": [
       "          token_acc  cats_score          speed  \\\n",
       "positive          1    0.703824  896243.020043   \n",
       "\n",
       "                                  cats_f_per_type  cats_auc_per_type model  \n",
       "positive  {'p': 1.0, 'r': 0.543, 'f': 0.70382372}           0.919289   BOW  "
      ]
     },
     "execution_count": 22,
     "metadata": {},
     "output_type": "execute_result"
    }
   ],
   "source": [
    "bow_json"
   ]
  },
  {
   "cell_type": "code",
   "execution_count": 23,
   "id": "silent-latino",
   "metadata": {},
   "outputs": [
    {
     "data": {
      "text/html": [
       "<div>\n",
       "<style scoped>\n",
       "    .dataframe tbody tr th:only-of-type {\n",
       "        vertical-align: middle;\n",
       "    }\n",
       "\n",
       "    .dataframe tbody tr th {\n",
       "        vertical-align: top;\n",
       "    }\n",
       "\n",
       "    .dataframe thead th {\n",
       "        text-align: right;\n",
       "    }\n",
       "</style>\n",
       "<table border=\"1\" class=\"dataframe\">\n",
       "  <thead>\n",
       "    <tr style=\"text-align: right;\">\n",
       "      <th></th>\n",
       "      <th>token_acc</th>\n",
       "      <th>cats_score</th>\n",
       "      <th>speed</th>\n",
       "      <th>cats_f_per_type</th>\n",
       "      <th>cats_auc_per_type</th>\n",
       "      <th>model</th>\n",
       "    </tr>\n",
       "  </thead>\n",
       "  <tbody>\n",
       "    <tr>\n",
       "      <th>positive</th>\n",
       "      <td>1</td>\n",
       "      <td>0.918065</td>\n",
       "      <td>38863.555943</td>\n",
       "      <td>{'p': 0.8712409996, 'r': 0.8228000000000001, '...</td>\n",
       "      <td>0.918065</td>\n",
       "      <td>CNN</td>\n",
       "    </tr>\n",
       "  </tbody>\n",
       "</table>\n",
       "</div>"
      ],
      "text/plain": [
       "          token_acc  cats_score         speed  \\\n",
       "positive          1    0.918065  38863.555943   \n",
       "\n",
       "                                            cats_f_per_type  \\\n",
       "positive  {'p': 0.8712409996, 'r': 0.8228000000000001, '...   \n",
       "\n",
       "          cats_auc_per_type model  \n",
       "positive           0.918065   CNN  "
      ]
     },
     "execution_count": 23,
     "metadata": {},
     "output_type": "execute_result"
    }
   ],
   "source": [
    "cnn_json"
   ]
  },
  {
   "cell_type": "code",
   "execution_count": 24,
   "id": "mature-equation",
   "metadata": {},
   "outputs": [
    {
     "data": {
      "text/html": [
       "<div>\n",
       "<style scoped>\n",
       "    .dataframe tbody tr th:only-of-type {\n",
       "        vertical-align: middle;\n",
       "    }\n",
       "\n",
       "    .dataframe tbody tr th {\n",
       "        vertical-align: top;\n",
       "    }\n",
       "\n",
       "    .dataframe thead th {\n",
       "        text-align: right;\n",
       "    }\n",
       "</style>\n",
       "<table border=\"1\" class=\"dataframe\">\n",
       "  <thead>\n",
       "    <tr style=\"text-align: right;\">\n",
       "      <th></th>\n",
       "      <th>token_acc</th>\n",
       "      <th>cats_score</th>\n",
       "      <th>speed</th>\n",
       "      <th>cats_f_per_type</th>\n",
       "      <th>cats_auc_per_type</th>\n",
       "      <th>model</th>\n",
       "    </tr>\n",
       "  </thead>\n",
       "  <tbody>\n",
       "    <tr>\n",
       "      <th>positive</th>\n",
       "      <td>1</td>\n",
       "      <td>0.806398</td>\n",
       "      <td>29524.433859</td>\n",
       "      <td>{'p': 1.0, 'r': 0.6756, 'f': 0.8063977083}</td>\n",
       "      <td>0.888473</td>\n",
       "      <td>Ensemble</td>\n",
       "    </tr>\n",
       "  </tbody>\n",
       "</table>\n",
       "</div>"
      ],
      "text/plain": [
       "          token_acc  cats_score         speed  \\\n",
       "positive          1    0.806398  29524.433859   \n",
       "\n",
       "                                     cats_f_per_type  cats_auc_per_type  \\\n",
       "positive  {'p': 1.0, 'r': 0.6756, 'f': 0.8063977083}           0.888473   \n",
       "\n",
       "             model  \n",
       "positive  Ensemble  "
      ]
     },
     "execution_count": 24,
     "metadata": {},
     "output_type": "execute_result"
    }
   ],
   "source": [
    "ens_json"
   ]
  },
  {
   "cell_type": "markdown",
   "id": "destroyed-jungle",
   "metadata": {},
   "source": [
    "# Comparing models with wandb.ai\n",
    "\n",
    "- great quickstart docs located on their documentation site:\n",
    "- [https://docs.wandb.ai/quickstart](https://docs.wandb.ai/quickstart)"
   ]
  },
  {
   "cell_type": "markdown",
   "id": "sensitive-columbus",
   "metadata": {},
   "source": [
    "Straightforward addition to config to wire up your evaluate cycle to wandb.ai:\n",
    "\n",
    "```\n",
    "[variables]\n",
    "wandb_project_name = \"yelp-polarity\"\n",
    "\n",
    "[training.logger]\n",
    "@loggers = \"spacy.WandbLogger.v1\"\n",
    "project_name = ${variables.wandb_project_name}\n",
    "remove_config_values = []\n",
    "\n",
    "```\n"
   ]
  },
  {
   "cell_type": "markdown",
   "id": "derived-brighton",
   "metadata": {},
   "source": [
    "Published dashboard of model training comparisons\n",
    "\n",
    "- [https://wandb.ai/garza/yelp-polarity/reports/Project-Dashboard--Vmlldzo1NTIxMjE](https://wandb.ai/garza/yelp-polarity/reports/Project-Dashboard--Vmlldzo1NTIxMjE)"
   ]
  },
  {
   "cell_type": "code",
   "execution_count": null,
   "id": "vocational-syndicate",
   "metadata": {},
   "outputs": [],
   "source": []
  }
 ],
 "metadata": {
  "kernelspec": {
   "display_name": "Python 3",
   "language": "python",
   "name": "python3"
  },
  "language_info": {
   "codemirror_mode": {
    "name": "ipython",
    "version": 3
   },
   "file_extension": ".py",
   "mimetype": "text/x-python",
   "name": "python",
   "nbconvert_exporter": "python",
   "pygments_lexer": "ipython3",
   "version": "3.8.6"
  }
 },
 "nbformat": 4,
 "nbformat_minor": 5
}
